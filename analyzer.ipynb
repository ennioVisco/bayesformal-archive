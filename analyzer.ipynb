{
 "cells": [
  {
   "cell_type": "code",
   "execution_count": 1,
   "metadata": {},
   "outputs": [],
   "source": [
    "# Load the libraries with usual aliases\n",
    "\n",
    "# Basics\n",
    "import numpy as np\n",
    "from numpy import inf\n",
    "import pandas as pd \n",
    "import xarray as xr\n",
    "import os, glob\n",
    "import imageio\n",
    "\n",
    "# Matplotlib\n",
    "import matplotlib.pyplot as plt\n",
    "from matplotlib import cm\n",
    "from matplotlib import colors\n",
    "import matplotlib.animation as animation\n",
    "from matplotlib.colors import LogNorm\n",
    "from matplotlib.ticker import MultipleLocator, MaxNLocator\n",
    "from mpl_toolkits.mplot3d import Axes3D\n",
    "from mpl_toolkits.axes_grid1 import make_axes_locatable\n",
    "\n",
    "# Extras\n",
    "import qnorm\n",
    "\n",
    "# Global settings\n",
    "plt.rcParams.update({'font.size': 20})"
   ]
  },
  {
   "cell_type": "code",
   "execution_count": 2,
   "metadata": {},
   "outputs": [],
   "source": [
    "# Absolute Path\n",
    "abs_path = (#\"C:/Users/ennio/source/repos/erlang-data/\"\n",
    "            \"C:/Users/ennio/source/repos/bayessmc/\"\n",
    "           )\n",
    "\n",
    "# Exact directory\n",
    "data_dir = \"CARar_3_steps_ahead\"\n",
    "chart_dir = \"charts\"\n",
    "\n",
    "avg_files = [ \"input_avg_K0_smc_grid_21x21_T_144\"\n",
    "            , \"r_p1_avg_K500_smc_grid_21x21_T_144\"\n",
    "            , \"r_p2_avg_K500_smc_grid_21x21_T_144\"\n",
    "            , \"r_p3_avg_K500_smc_grid_21x21_T_144\" ]\n",
    "\n",
    "\n",
    "\n",
    "var_files = [ \"input_var_K500_smc_grid_21x21_T_144\"\n",
    "            , \"r_p1_var_K500_smc_grid_21x21_T_144\"\n",
    "            , \"r_p2_avg_K500_smc_grid_21x21_T_144\"\n",
    "            , \"r_p3_var_K500_smc_grid_21x21_T_144\" ]\n",
    "\n",
    "interesting_snaps = [1, 49, 111] # T = 0:00, 8:00, 19:10"
   ]
  },
  {
   "cell_type": "code",
   "execution_count": 3,
   "metadata": {},
   "outputs": [],
   "source": [
    "# Plotting the graph \n",
    "# Read data from file 'path + directory/filename.csv' \n",
    "def plot_graph(filename, directory=data_dir, path=abs_path, index=\"\", func=lambda x: x):\n",
    "    data = pd.read_csv(path + directory + \"/\" + filename + \".csv\")\n",
    "    if index != \"\":\n",
    "        data = data.set_index(index)\n",
    "    data = func(data)\n",
    "    fig = plt.figure()\n",
    "    fig.suptitle(filename)\n",
    "    fig.set_size_inches(20,10)\n",
    "    plt.imshow(data.values, aspect='auto')\n",
    "    plt.colorbar()\n",
    "    plt.show()"
   ]
  },
  {
   "cell_type": "code",
   "execution_count": 4,
   "metadata": {},
   "outputs": [],
   "source": [
    "# Plotting a multi-graph based on a list of `filenames` \n",
    "# Reads the data from file 'path + directory/filenames[i].csv' \n",
    "# executes func(files) as a pre-processing step\n",
    "def plot_multi(filenames, func=lambda x: x, directory=data_dir, path=abs_path, maxcols=2, width=20, height=10):\n",
    "    # Data Preparation\n",
    "    nrows = - (- len(filenames) // maxcols)\n",
    "    d = list(map(lambda x: pd.read_csv(path + directory + \"/\" + x + \".csv\").set_index(\"Space\"), filenames))\n",
    "    d = list(map(func, d))\n",
    "    dmin = min(map(lambda y: y.min().min(), d))\n",
    "    dmax = max(map(lambda x: x.max().max(), d))\n",
    "    \n",
    "    # Figure Generation\n",
    "    plt.figure(1)\n",
    "    fig, axes = plt.subplots(nrows, maxcols)\n",
    "    i = 0\n",
    "    for data, ax in zip(d, axes.ravel()):\n",
    "        ax.set_title(filenames[i])\n",
    "        im = ax.imshow(data.values, aspect='auto', vmin=dmin, vmax=dmax)\n",
    "        divider = make_axes_locatable(ax)\n",
    "        cax = divider.append_axes(\"right\", size=\"20%\", pad=0.05)\n",
    "        cbar = plt.colorbar(im, cax=cax, format=\"%.2f\")\n",
    "        i = i + 1\n",
    "    fig.set_size_inches(width, height)\n",
    "    plt.show()"
   ]
  },
  {
   "cell_type": "code",
   "execution_count": 5,
   "metadata": {},
   "outputs": [],
   "source": [
    "def generate_gif(filename, path=abs_path, input_dir=data_dir, directory=chart_dir):\n",
    "    df = pd.read_csv(path + input_dir + \"/\" + filename + \".csv\")\n",
    "    \n",
    "    dmin = df.drop(\"Space\", axis=1).replace([np.inf, -np.inf], 0).to_numpy().min()\n",
    "    dmax = df.drop(\"Space\", axis=1).replace([np.inf, -np.inf], 0).to_numpy().max()\n",
    "    \n",
    "    # Data refactoring\n",
    "    data = []\n",
    "    for j in range(1, 141):\n",
    "        dfs = []\n",
    "        i = 0\n",
    "        for i in range(0, 21): \n",
    "            dfs.append(df.iloc[(21 * i):(21 * i + 21), j:(j + 1)].to_numpy())\n",
    "\n",
    "        dfs = np.asarray(dfs)\n",
    "        data.append(np.reshape(dfs, (21, 21)))\n",
    "        \n",
    "    with plt.rc_context({'font.size': 16}):\n",
    "        # Plots with Fixed colorbar    \n",
    "        for i in np.arange(140):\n",
    "            plt.figure()\n",
    "            plt.title(filename + '\\nTime point: ' + str(i), pad=\"10\")\n",
    "            plt.imshow(data[i], origin='lower', vmin=dmin, vmax=dmax), plt.colorbar()\n",
    "            plt.savefig(path + directory + '/temp/' + 'snap_' + str(i) + '_' + filename + '.png')\n",
    "\n",
    "    snap1 = glob.glob(path + directory + '/temp/' + 'snap_[0-9]_' + filename + '.png') \n",
    "    snap2 = glob.glob(path + directory + '/temp/' + 'snap_[0-9][0-9]_' + filename + '.png')\n",
    "    snap3 = glob.glob(path + directory + '/temp/' + 'snap_[0-9][0-9][0-9]_' + filename + '.png')\n",
    "    snaps = snap1 + snap2 + snap3\n",
    "\n",
    "    fix = [imageio.imread(file) for file in snaps]\n",
    "\n",
    "    imageio.mimsave(path + directory + '/movie_' + filename + '.gif', fix, fps = 3)"
   ]
  },
  {
   "cell_type": "code",
   "execution_count": 6,
   "metadata": {},
   "outputs": [],
   "source": [
    "def multi_snap_printer(filename, snaps, directory=data_dir, path=abs_path, maxcols=3, width=0.05, left=0.85\n",
    "                      ,smin=0, smax=0, cmap='', symmetric=False):\n",
    "    df = pd.read_csv(path + directory + '/' + filename + \".csv\")\n",
    "\n",
    "    # Data refactoring\n",
    "    d = []\n",
    "    for j in snaps:\n",
    "        dfs = []\n",
    "        i = 0\n",
    "        for i in range(0, 21): \n",
    "            dfs.append(df.iloc[(21 * i):(21 * i + 21), j:(j + 1)].to_numpy())\n",
    "\n",
    "        dfs = np.asarray(dfs)\n",
    "        d.append(np.reshape(dfs, (21, 21)))\n",
    "    \n",
    "    d2 = np.nan_to_num(d, neginf=0, posinf=0)\n",
    "    dmax = max(list(map(lambda x: x.max(), d2)))\n",
    "    dmin = max(list(map(lambda x: x.min(), d2)))\n",
    "    if(abs(dmax) > abs(dmin) and symmetric):\n",
    "        dmin = - dmax\n",
    "    elif(symmetric):\n",
    "        dmax = - dmin\n",
    "    #print(\"MAX:\" + str(dmax) + \"| MIN:\" + str(dmin))\n",
    "    if smin != 0:\n",
    "        dmin = smin\n",
    "        d = np.nan_to_num(d, neginf=smin)\n",
    "    if smax != 0:\n",
    "        dmax = smax\n",
    "        d = np.nan_to_num(d, posinf=smin)\n",
    "    \n",
    "    # Grid Ticks\n",
    "    major_ticks = np.arange(4.5, 20, 5)\n",
    "    minor_ticks = np.arange(0.5, 20, 1)\n",
    "\n",
    "    # Figure\n",
    "    plt.figure(1)\n",
    "    if maxcols != 1:\n",
    "        fig, axes = plt.subplots(1, maxcols)\n",
    "        i = 0\n",
    "        for data, ax in zip(d, axes.ravel()):\n",
    "            ax = _helper(data, snaps, ax, i, fig, dmin, dmax, cmap, major_ticks, minor_ticks, width, left)\n",
    "            fig.set_size_inches(20, 5)\n",
    "            i = i + 1\n",
    "    else: \n",
    "        fig, axes = plt.subplots(1, 1)\n",
    "        axes = _helper(d[0], snaps, axes, 0, fig, dmin, dmax, cmap, major_ticks, minor_ticks, width, left)\n",
    "        fig.set_size_inches(6, 5)\n",
    "    \n",
    "    plt.show()\n",
    "    \n",
    "def _helper(data, snaps, ax, n, fig, dmin, dmax, cmap, major_ticks, minor_ticks, width, left):\n",
    "    hour = (snaps[n] - 1) // 6\n",
    "    minutes = ((snaps[n] - 1) % 6) * 10\n",
    "    if minutes == 0:\n",
    "        minutes = \"00\"\n",
    "    #ax.set_title(\"snap_t\" + str(snaps[i]-1) + '_' + filename)\n",
    "    if cmap == '':\n",
    "        im = ax.imshow(data, origin='lower', aspect='auto', vmin=dmin, vmax=dmax)\n",
    "    else:\n",
    "        im = ax.imshow(data, origin='lower', aspect='auto', vmin=dmin, vmax=dmax, cmap=cmap)\n",
    "\n",
    "    ax.set_title(\"Clock Time: \" + str(hour) + \":\" + str(minutes), pad=\"10\")\n",
    "    ax.set_xticks(major_ticks)\n",
    "    ax.set_xticks(minor_ticks, minor=True)\n",
    "    ax.set_yticks(major_ticks)\n",
    "    ax.set_yticks(minor_ticks, minor=True)\n",
    "    ax.set_ylim(bottom=-0.5)\n",
    "    ax.set_xlim(left=-0.5)\n",
    "    ax.set_xticklabels([])\n",
    "    ax.set_yticklabels([])\n",
    "    ax.grid(which='major', color='#000000', linestyle='--')\n",
    "    ax.grid(which='minor', color='#CCCCCC', linestyle=':')\n",
    "    fig.subplots_adjust(right=0.8)\n",
    "    cbar_ax = fig.add_axes([left, 0.15, width, 0.7])\n",
    "    fig.colorbar(im, cax=cbar_ax)\n",
    "    \n",
    "    return ax"
   ]
  },
  {
   "cell_type": "code",
   "execution_count": 7,
   "metadata": {},
   "outputs": [
    {
     "data": {
      "text/plain": [
       "'\\n# Input Normalization \\nbase = \"_trajectories_grid_21x21_T_144\" \\nfiles = []\\nfor i in range(1, 101):\\n    if i < 10:\\n        s = \"00\" + str(i)\\n    elif i < 100:\\n        s = \"0\" + str(i)\\n    else:\\n        s = str(i)\\n    files.append(s + base)\\n\\nfor f in files:\\n    df = pd.read_csv(path + directory + \"/\" + f + \".csv\")\\n    df = qnorm.quantile_normalize(df)\\n    #df.drop(columns=\"\", axis=1, inplace=True)\\n    df.to_csv(path + directory + \"/norm/\" + f + \".csv\", index=False)\\n'"
      ]
     },
     "execution_count": 7,
     "metadata": {},
     "output_type": "execute_result"
    }
   ],
   "source": [
    "# Input Normalization (Enable when needed)\n",
    "'''\n",
    "# Input Normalization \n",
    "base = \"_trajectories_grid_21x21_T_144\" \n",
    "files = []\n",
    "for i in range(1, 101):\n",
    "    if i < 10:\n",
    "        s = \"00\" + str(i)\n",
    "    elif i < 100:\n",
    "        s = \"0\" + str(i)\n",
    "    else:\n",
    "        s = str(i)\n",
    "    files.append(s + base)\n",
    "\n",
    "for f in files:\n",
    "    df = pd.read_csv(path + directory + \"/\" + f + \".csv\")\n",
    "    df = qnorm.quantile_normalize(df)\n",
    "    #df.drop(columns=\"\", axis=1, inplace=True)\n",
    "    df.to_csv(path + directory + \"/norm/\" + f + \".csv\", index=False)\n",
    "'''"
   ]
  },
  {
   "cell_type": "code",
   "execution_count": 8,
   "metadata": {
    "scrolled": true
   },
   "outputs": [
    {
     "ename": "FileNotFoundError",
     "evalue": "[Errno 2] No such file or directory: 'C:/Users/ennio/source/repos/bayessmc/CARar_3_steps_ahead/input_avg_K0_smc_grid_21x21_T_144.csv'",
     "output_type": "error",
     "traceback": [
      "\u001b[1;31m---------------------------------------------------------------------------\u001b[0m",
      "\u001b[1;31mFileNotFoundError\u001b[0m                         Traceback (most recent call last)",
      "\u001b[1;32m<ipython-input-8-c1a57bcea026>\u001b[0m in \u001b[0;36m<module>\u001b[1;34m\u001b[0m\n\u001b[0;32m      1\u001b[0m \u001b[1;31m# Average & Variance Plotting\u001b[0m\u001b[1;33m\u001b[0m\u001b[1;33m\u001b[0m\u001b[0m\n\u001b[1;32m----> 2\u001b[1;33m \u001b[0mplot_multi\u001b[0m\u001b[1;33m(\u001b[0m\u001b[0mavg_files\u001b[0m\u001b[1;33m,\u001b[0m \u001b[1;32mlambda\u001b[0m \u001b[0mx\u001b[0m\u001b[1;33m:\u001b[0m \u001b[0mx\u001b[0m\u001b[1;33m,\u001b[0m \u001b[0mmaxcols\u001b[0m\u001b[1;33m=\u001b[0m\u001b[1;36m4\u001b[0m\u001b[1;33m)\u001b[0m\u001b[1;33m\u001b[0m\u001b[0m\n\u001b[0m\u001b[0;32m      3\u001b[0m \u001b[0mplot_multi\u001b[0m\u001b[1;33m(\u001b[0m\u001b[0mvar_files\u001b[0m\u001b[1;33m,\u001b[0m \u001b[1;32mlambda\u001b[0m \u001b[0mx\u001b[0m\u001b[1;33m:\u001b[0m \u001b[0mx\u001b[0m\u001b[1;33m,\u001b[0m \u001b[0mmaxcols\u001b[0m\u001b[1;33m=\u001b[0m\u001b[1;36m4\u001b[0m\u001b[1;33m)\u001b[0m\u001b[1;33m\u001b[0m\u001b[0m\n\u001b[0;32m      4\u001b[0m \u001b[1;33m\u001b[0m\u001b[0m\n\u001b[0;32m      5\u001b[0m \u001b[0minput_trajectory\u001b[0m \u001b[1;33m=\u001b[0m \u001b[1;34m\"data_matrix_20131111\"\u001b[0m\u001b[1;33m\u001b[0m\u001b[0m\n",
      "\u001b[1;32m<ipython-input-4-0d6d79d58a9c>\u001b[0m in \u001b[0;36mplot_multi\u001b[1;34m(filenames, func, directory, path, maxcols, width, height)\u001b[0m\n\u001b[0;32m      5\u001b[0m     \u001b[1;31m# Data Preparation\u001b[0m\u001b[1;33m\u001b[0m\u001b[1;33m\u001b[0m\u001b[0m\n\u001b[0;32m      6\u001b[0m     \u001b[0mnrows\u001b[0m \u001b[1;33m=\u001b[0m \u001b[1;33m-\u001b[0m \u001b[1;33m(\u001b[0m\u001b[1;33m-\u001b[0m \u001b[0mlen\u001b[0m\u001b[1;33m(\u001b[0m\u001b[0mfilenames\u001b[0m\u001b[1;33m)\u001b[0m \u001b[1;33m//\u001b[0m \u001b[0mmaxcols\u001b[0m\u001b[1;33m)\u001b[0m\u001b[1;33m\u001b[0m\u001b[0m\n\u001b[1;32m----> 7\u001b[1;33m     \u001b[0md\u001b[0m \u001b[1;33m=\u001b[0m \u001b[0mlist\u001b[0m\u001b[1;33m(\u001b[0m\u001b[0mmap\u001b[0m\u001b[1;33m(\u001b[0m\u001b[1;32mlambda\u001b[0m \u001b[0mx\u001b[0m\u001b[1;33m:\u001b[0m \u001b[0mpd\u001b[0m\u001b[1;33m.\u001b[0m\u001b[0mread_csv\u001b[0m\u001b[1;33m(\u001b[0m\u001b[0mpath\u001b[0m \u001b[1;33m+\u001b[0m \u001b[0mdirectory\u001b[0m \u001b[1;33m+\u001b[0m \u001b[1;34m\"/\"\u001b[0m \u001b[1;33m+\u001b[0m \u001b[0mx\u001b[0m \u001b[1;33m+\u001b[0m \u001b[1;34m\".csv\"\u001b[0m\u001b[1;33m)\u001b[0m\u001b[1;33m.\u001b[0m\u001b[0mset_index\u001b[0m\u001b[1;33m(\u001b[0m\u001b[1;34m\"Space\"\u001b[0m\u001b[1;33m)\u001b[0m\u001b[1;33m,\u001b[0m \u001b[0mfilenames\u001b[0m\u001b[1;33m)\u001b[0m\u001b[1;33m)\u001b[0m\u001b[1;33m\u001b[0m\u001b[0m\n\u001b[0m\u001b[0;32m      8\u001b[0m     \u001b[0md\u001b[0m \u001b[1;33m=\u001b[0m \u001b[0mlist\u001b[0m\u001b[1;33m(\u001b[0m\u001b[0mmap\u001b[0m\u001b[1;33m(\u001b[0m\u001b[0mfunc\u001b[0m\u001b[1;33m,\u001b[0m \u001b[0md\u001b[0m\u001b[1;33m)\u001b[0m\u001b[1;33m)\u001b[0m\u001b[1;33m\u001b[0m\u001b[0m\n\u001b[0;32m      9\u001b[0m     \u001b[0mdmin\u001b[0m \u001b[1;33m=\u001b[0m \u001b[0mmin\u001b[0m\u001b[1;33m(\u001b[0m\u001b[0mmap\u001b[0m\u001b[1;33m(\u001b[0m\u001b[1;32mlambda\u001b[0m \u001b[0my\u001b[0m\u001b[1;33m:\u001b[0m \u001b[0my\u001b[0m\u001b[1;33m.\u001b[0m\u001b[0mmin\u001b[0m\u001b[1;33m(\u001b[0m\u001b[1;33m)\u001b[0m\u001b[1;33m.\u001b[0m\u001b[0mmin\u001b[0m\u001b[1;33m(\u001b[0m\u001b[1;33m)\u001b[0m\u001b[1;33m,\u001b[0m \u001b[0md\u001b[0m\u001b[1;33m)\u001b[0m\u001b[1;33m)\u001b[0m\u001b[1;33m\u001b[0m\u001b[0m\n",
      "\u001b[1;32m<ipython-input-4-0d6d79d58a9c>\u001b[0m in \u001b[0;36m<lambda>\u001b[1;34m(x)\u001b[0m\n\u001b[0;32m      5\u001b[0m     \u001b[1;31m# Data Preparation\u001b[0m\u001b[1;33m\u001b[0m\u001b[1;33m\u001b[0m\u001b[0m\n\u001b[0;32m      6\u001b[0m     \u001b[0mnrows\u001b[0m \u001b[1;33m=\u001b[0m \u001b[1;33m-\u001b[0m \u001b[1;33m(\u001b[0m\u001b[1;33m-\u001b[0m \u001b[0mlen\u001b[0m\u001b[1;33m(\u001b[0m\u001b[0mfilenames\u001b[0m\u001b[1;33m)\u001b[0m \u001b[1;33m//\u001b[0m \u001b[0mmaxcols\u001b[0m\u001b[1;33m)\u001b[0m\u001b[1;33m\u001b[0m\u001b[0m\n\u001b[1;32m----> 7\u001b[1;33m     \u001b[0md\u001b[0m \u001b[1;33m=\u001b[0m \u001b[0mlist\u001b[0m\u001b[1;33m(\u001b[0m\u001b[0mmap\u001b[0m\u001b[1;33m(\u001b[0m\u001b[1;32mlambda\u001b[0m \u001b[0mx\u001b[0m\u001b[1;33m:\u001b[0m \u001b[0mpd\u001b[0m\u001b[1;33m.\u001b[0m\u001b[0mread_csv\u001b[0m\u001b[1;33m(\u001b[0m\u001b[0mpath\u001b[0m \u001b[1;33m+\u001b[0m \u001b[0mdirectory\u001b[0m \u001b[1;33m+\u001b[0m \u001b[1;34m\"/\"\u001b[0m \u001b[1;33m+\u001b[0m \u001b[0mx\u001b[0m \u001b[1;33m+\u001b[0m \u001b[1;34m\".csv\"\u001b[0m\u001b[1;33m)\u001b[0m\u001b[1;33m.\u001b[0m\u001b[0mset_index\u001b[0m\u001b[1;33m(\u001b[0m\u001b[1;34m\"Space\"\u001b[0m\u001b[1;33m)\u001b[0m\u001b[1;33m,\u001b[0m \u001b[0mfilenames\u001b[0m\u001b[1;33m)\u001b[0m\u001b[1;33m)\u001b[0m\u001b[1;33m\u001b[0m\u001b[0m\n\u001b[0m\u001b[0;32m      8\u001b[0m     \u001b[0md\u001b[0m \u001b[1;33m=\u001b[0m \u001b[0mlist\u001b[0m\u001b[1;33m(\u001b[0m\u001b[0mmap\u001b[0m\u001b[1;33m(\u001b[0m\u001b[0mfunc\u001b[0m\u001b[1;33m,\u001b[0m \u001b[0md\u001b[0m\u001b[1;33m)\u001b[0m\u001b[1;33m)\u001b[0m\u001b[1;33m\u001b[0m\u001b[0m\n\u001b[0;32m      9\u001b[0m     \u001b[0mdmin\u001b[0m \u001b[1;33m=\u001b[0m \u001b[0mmin\u001b[0m\u001b[1;33m(\u001b[0m\u001b[0mmap\u001b[0m\u001b[1;33m(\u001b[0m\u001b[1;32mlambda\u001b[0m \u001b[0my\u001b[0m\u001b[1;33m:\u001b[0m \u001b[0my\u001b[0m\u001b[1;33m.\u001b[0m\u001b[0mmin\u001b[0m\u001b[1;33m(\u001b[0m\u001b[1;33m)\u001b[0m\u001b[1;33m.\u001b[0m\u001b[0mmin\u001b[0m\u001b[1;33m(\u001b[0m\u001b[1;33m)\u001b[0m\u001b[1;33m,\u001b[0m \u001b[0md\u001b[0m\u001b[1;33m)\u001b[0m\u001b[1;33m)\u001b[0m\u001b[1;33m\u001b[0m\u001b[0m\n",
      "\u001b[1;32m~\\AppData\\Local\\Programs\\Python\\Python36-32\\lib\\site-packages\\pandas\\io\\parsers.py\u001b[0m in \u001b[0;36mread_csv\u001b[1;34m(filepath_or_buffer, sep, delimiter, header, names, index_col, usecols, squeeze, prefix, mangle_dupe_cols, dtype, engine, converters, true_values, false_values, skipinitialspace, skiprows, skipfooter, nrows, na_values, keep_default_na, na_filter, verbose, skip_blank_lines, parse_dates, infer_datetime_format, keep_date_col, date_parser, dayfirst, cache_dates, iterator, chunksize, compression, thousands, decimal, lineterminator, quotechar, quoting, doublequote, escapechar, comment, encoding, dialect, error_bad_lines, warn_bad_lines, delim_whitespace, low_memory, memory_map, float_precision)\u001b[0m\n\u001b[0;32m    686\u001b[0m     )\n\u001b[0;32m    687\u001b[0m \u001b[1;33m\u001b[0m\u001b[0m\n\u001b[1;32m--> 688\u001b[1;33m     \u001b[1;32mreturn\u001b[0m \u001b[0m_read\u001b[0m\u001b[1;33m(\u001b[0m\u001b[0mfilepath_or_buffer\u001b[0m\u001b[1;33m,\u001b[0m \u001b[0mkwds\u001b[0m\u001b[1;33m)\u001b[0m\u001b[1;33m\u001b[0m\u001b[0m\n\u001b[0m\u001b[0;32m    689\u001b[0m \u001b[1;33m\u001b[0m\u001b[0m\n\u001b[0;32m    690\u001b[0m \u001b[1;33m\u001b[0m\u001b[0m\n",
      "\u001b[1;32m~\\AppData\\Local\\Programs\\Python\\Python36-32\\lib\\site-packages\\pandas\\io\\parsers.py\u001b[0m in \u001b[0;36m_read\u001b[1;34m(filepath_or_buffer, kwds)\u001b[0m\n\u001b[0;32m    452\u001b[0m \u001b[1;33m\u001b[0m\u001b[0m\n\u001b[0;32m    453\u001b[0m     \u001b[1;31m# Create the parser.\u001b[0m\u001b[1;33m\u001b[0m\u001b[1;33m\u001b[0m\u001b[0m\n\u001b[1;32m--> 454\u001b[1;33m     \u001b[0mparser\u001b[0m \u001b[1;33m=\u001b[0m \u001b[0mTextFileReader\u001b[0m\u001b[1;33m(\u001b[0m\u001b[0mfp_or_buf\u001b[0m\u001b[1;33m,\u001b[0m \u001b[1;33m**\u001b[0m\u001b[0mkwds\u001b[0m\u001b[1;33m)\u001b[0m\u001b[1;33m\u001b[0m\u001b[0m\n\u001b[0m\u001b[0;32m    455\u001b[0m \u001b[1;33m\u001b[0m\u001b[0m\n\u001b[0;32m    456\u001b[0m     \u001b[1;32mif\u001b[0m \u001b[0mchunksize\u001b[0m \u001b[1;32mor\u001b[0m \u001b[0miterator\u001b[0m\u001b[1;33m:\u001b[0m\u001b[1;33m\u001b[0m\u001b[0m\n",
      "\u001b[1;32m~\\AppData\\Local\\Programs\\Python\\Python36-32\\lib\\site-packages\\pandas\\io\\parsers.py\u001b[0m in \u001b[0;36m__init__\u001b[1;34m(self, f, engine, **kwds)\u001b[0m\n\u001b[0;32m    946\u001b[0m             \u001b[0mself\u001b[0m\u001b[1;33m.\u001b[0m\u001b[0moptions\u001b[0m\u001b[1;33m[\u001b[0m\u001b[1;34m\"has_index_names\"\u001b[0m\u001b[1;33m]\u001b[0m \u001b[1;33m=\u001b[0m \u001b[0mkwds\u001b[0m\u001b[1;33m[\u001b[0m\u001b[1;34m\"has_index_names\"\u001b[0m\u001b[1;33m]\u001b[0m\u001b[1;33m\u001b[0m\u001b[0m\n\u001b[0;32m    947\u001b[0m \u001b[1;33m\u001b[0m\u001b[0m\n\u001b[1;32m--> 948\u001b[1;33m         \u001b[0mself\u001b[0m\u001b[1;33m.\u001b[0m\u001b[0m_make_engine\u001b[0m\u001b[1;33m(\u001b[0m\u001b[0mself\u001b[0m\u001b[1;33m.\u001b[0m\u001b[0mengine\u001b[0m\u001b[1;33m)\u001b[0m\u001b[1;33m\u001b[0m\u001b[0m\n\u001b[0m\u001b[0;32m    949\u001b[0m \u001b[1;33m\u001b[0m\u001b[0m\n\u001b[0;32m    950\u001b[0m     \u001b[1;32mdef\u001b[0m \u001b[0mclose\u001b[0m\u001b[1;33m(\u001b[0m\u001b[0mself\u001b[0m\u001b[1;33m)\u001b[0m\u001b[1;33m:\u001b[0m\u001b[1;33m\u001b[0m\u001b[0m\n",
      "\u001b[1;32m~\\AppData\\Local\\Programs\\Python\\Python36-32\\lib\\site-packages\\pandas\\io\\parsers.py\u001b[0m in \u001b[0;36m_make_engine\u001b[1;34m(self, engine)\u001b[0m\n\u001b[0;32m   1178\u001b[0m     \u001b[1;32mdef\u001b[0m \u001b[0m_make_engine\u001b[0m\u001b[1;33m(\u001b[0m\u001b[0mself\u001b[0m\u001b[1;33m,\u001b[0m \u001b[0mengine\u001b[0m\u001b[1;33m=\u001b[0m\u001b[1;34m\"c\"\u001b[0m\u001b[1;33m)\u001b[0m\u001b[1;33m:\u001b[0m\u001b[1;33m\u001b[0m\u001b[0m\n\u001b[0;32m   1179\u001b[0m         \u001b[1;32mif\u001b[0m \u001b[0mengine\u001b[0m \u001b[1;33m==\u001b[0m \u001b[1;34m\"c\"\u001b[0m\u001b[1;33m:\u001b[0m\u001b[1;33m\u001b[0m\u001b[0m\n\u001b[1;32m-> 1180\u001b[1;33m             \u001b[0mself\u001b[0m\u001b[1;33m.\u001b[0m\u001b[0m_engine\u001b[0m \u001b[1;33m=\u001b[0m \u001b[0mCParserWrapper\u001b[0m\u001b[1;33m(\u001b[0m\u001b[0mself\u001b[0m\u001b[1;33m.\u001b[0m\u001b[0mf\u001b[0m\u001b[1;33m,\u001b[0m \u001b[1;33m**\u001b[0m\u001b[0mself\u001b[0m\u001b[1;33m.\u001b[0m\u001b[0moptions\u001b[0m\u001b[1;33m)\u001b[0m\u001b[1;33m\u001b[0m\u001b[0m\n\u001b[0m\u001b[0;32m   1181\u001b[0m         \u001b[1;32melse\u001b[0m\u001b[1;33m:\u001b[0m\u001b[1;33m\u001b[0m\u001b[0m\n\u001b[0;32m   1182\u001b[0m             \u001b[1;32mif\u001b[0m \u001b[0mengine\u001b[0m \u001b[1;33m==\u001b[0m \u001b[1;34m\"python\"\u001b[0m\u001b[1;33m:\u001b[0m\u001b[1;33m\u001b[0m\u001b[0m\n",
      "\u001b[1;32m~\\AppData\\Local\\Programs\\Python\\Python36-32\\lib\\site-packages\\pandas\\io\\parsers.py\u001b[0m in \u001b[0;36m__init__\u001b[1;34m(self, src, **kwds)\u001b[0m\n\u001b[0;32m   2008\u001b[0m         \u001b[0mkwds\u001b[0m\u001b[1;33m[\u001b[0m\u001b[1;34m\"usecols\"\u001b[0m\u001b[1;33m]\u001b[0m \u001b[1;33m=\u001b[0m \u001b[0mself\u001b[0m\u001b[1;33m.\u001b[0m\u001b[0musecols\u001b[0m\u001b[1;33m\u001b[0m\u001b[0m\n\u001b[0;32m   2009\u001b[0m \u001b[1;33m\u001b[0m\u001b[0m\n\u001b[1;32m-> 2010\u001b[1;33m         \u001b[0mself\u001b[0m\u001b[1;33m.\u001b[0m\u001b[0m_reader\u001b[0m \u001b[1;33m=\u001b[0m \u001b[0mparsers\u001b[0m\u001b[1;33m.\u001b[0m\u001b[0mTextReader\u001b[0m\u001b[1;33m(\u001b[0m\u001b[0msrc\u001b[0m\u001b[1;33m,\u001b[0m \u001b[1;33m**\u001b[0m\u001b[0mkwds\u001b[0m\u001b[1;33m)\u001b[0m\u001b[1;33m\u001b[0m\u001b[0m\n\u001b[0m\u001b[0;32m   2011\u001b[0m         \u001b[0mself\u001b[0m\u001b[1;33m.\u001b[0m\u001b[0munnamed_cols\u001b[0m \u001b[1;33m=\u001b[0m \u001b[0mself\u001b[0m\u001b[1;33m.\u001b[0m\u001b[0m_reader\u001b[0m\u001b[1;33m.\u001b[0m\u001b[0munnamed_cols\u001b[0m\u001b[1;33m\u001b[0m\u001b[0m\n\u001b[0;32m   2012\u001b[0m \u001b[1;33m\u001b[0m\u001b[0m\n",
      "\u001b[1;32mpandas\\_libs\\parsers.pyx\u001b[0m in \u001b[0;36mpandas._libs.parsers.TextReader.__cinit__\u001b[1;34m()\u001b[0m\n",
      "\u001b[1;32mpandas\\_libs\\parsers.pyx\u001b[0m in \u001b[0;36mpandas._libs.parsers.TextReader._setup_parser_source\u001b[1;34m()\u001b[0m\n",
      "\u001b[1;31mFileNotFoundError\u001b[0m: [Errno 2] No such file or directory: 'C:/Users/ennio/source/repos/bayessmc/CARar_3_steps_ahead/input_avg_K0_smc_grid_21x21_T_144.csv'"
     ]
    }
   ],
   "source": [
    "# Average & Variance Plotting\n",
    "plot_multi(avg_files, lambda x: x, maxcols=4)\n",
    "plot_multi(var_files, lambda x: x, maxcols=4)\n",
    "\n",
    "input_trajectory = \"data_matrix_20131111\"\n",
    "\n",
    "plot_graph(input_trajectory, func=lambda x: x)\n",
    "plot_graph(input_trajectory, func=qnorm.quantile_normalize)\n",
    "plot_graph(input_trajectory, func=lambda x: qnorm.quantile_normalize(x.transpose()).transpose())\n",
    "\n",
    "filename = \"r_p3_avg_K500_smc_grid_21x21_T_144\"\n",
    "\n",
    "plot_graph(filename, index=\"Space\", func=qnorm.quantile_normalize)\n",
    "#plot_graph(filename, index=\"Space\", func=lambda x: qnorm.quantile_normalize(x.transpose()).transpose())\n",
    "\n",
    "# Normalized Input\n",
    "#plot_multi(avg_files, directory=data_dir + \"/norm\", maxcols=4)\n",
    "#plot_multi(var_files, directory=data_dir + \"/norm\", maxcols=4)\n",
    "\n",
    "# Normalized Output\n",
    "#plot_multi(avg_files, func=qnorm.quantile_normalize)\n",
    "#plot_multi(var_files, func=qnorm.quantile_normalize)"
   ]
  },
  {
   "cell_type": "code",
   "execution_count": null,
   "metadata": {},
   "outputs": [],
   "source": [
    "# Property P1 plotting..\n",
    "# plot_graph(\"r_p1_avg_K500_smc_grid_21x21_T_144\", index=\"Space\")"
   ]
  },
  {
   "cell_type": "code",
   "execution_count": null,
   "metadata": {
    "scrolled": true
   },
   "outputs": [],
   "source": [
    "# INPUT GIF\n",
    "filename = \"input_avg_K0_smc_grid_21x21_T_144\"\n",
    "\n",
    "#generate_gif(filename)\n",
    "\n",
    "# P1 GIF\n",
    "prop = 'p1'\n",
    "filename = \"r_\" + prop + \"_avg_K500_smc_grid_21x21_T_144\"\n",
    "\n",
    "#generate_gif(filename)\n",
    "\n",
    "# P2' GIF\n",
    "prop = 'p2'\n",
    "filename = \"r_\" + prop + \"_avg_K500_smc_grid_21x21_T_144\"\n",
    "\n",
    "#generate_gif(filename)\n",
    "\n",
    "# P3 GIF\n",
    "prop = 'p3'\n",
    "filename = \"r_\" + prop + \"_avg_K500_smc_grid_21x21_T_144\"\n",
    "\n",
    "#generate_gif(filename)"
   ]
  },
  {
   "cell_type": "code",
   "execution_count": null,
   "metadata": {
    "scrolled": true
   },
   "outputs": [],
   "source": [
    "multi_snap_printer(avg_files[0], interesting_snaps, width=0.040, left=0.84)\n",
    "multi_snap_printer(avg_files[1], interesting_snaps, width=0.040, left=0.84, cmap='PuOr', symmetric=True)\n",
    "multi_snap_printer(avg_files[2], interesting_snaps, width=0.040, left=0.84, cmap='PuOr', symmetric=True)\n",
    "multi_snap_printer(avg_files[3], interesting_snaps, width=0.040, left=0.84, cmap='PuOr', symmetric=True)"
   ]
  },
  {
   "cell_type": "code",
   "execution_count": null,
   "metadata": {
    "scrolled": true
   },
   "outputs": [],
   "source": [
    "s_avg_files = list(map(lambda x: x.replace(\"r_\", \"s_\"), avg_files))\n",
    "\n",
    "#multi_snap_printer(s_avg_files[0], interesting_snaps, width=0.040, left=0.84)\n",
    "multi_snap_printer(s_avg_files[1], interesting_snaps, width=0.040, left=0.84, smax=1.0, smin=0.01, cmap='RdYlGn')\n",
    "multi_snap_printer(s_avg_files[2], interesting_snaps, width=0.040, left=0.84, smax=1.0, smin=0.01, cmap='RdYlGn')\n",
    "multi_snap_printer(s_avg_files[3], interesting_snaps, width=0.040, left=0.84, smax=1.0, smin=0.01, cmap='RdYlGn')"
   ]
  },
  {
   "cell_type": "code",
   "execution_count": null,
   "metadata": {},
   "outputs": [],
   "source": [
    "prop = 'poi'\n",
    "files = ['g6_r_' + prop + \"_avg_K500_smc_grid_21x21_T_144\", 'g6_s_' + prop + \"_avg_K500_smc_grid_21x21_T_144\"]\n",
    "\n",
    "multi_snap_printer(files[0], interesting_snaps, width=0.040, left=0.84, cmap='PuOr', symmetric=True, smin=-400, smax=400)\n",
    "multi_snap_printer(files[1], interesting_snaps, width=0.040, left=0.84, cmap='RdYlGn', smax=1.0, smin=0.01)\n",
    "\n",
    "#for f in files:\n",
    "    #generate_gif(f)"
   ]
  },
  {
   "cell_type": "code",
   "execution_count": null,
   "metadata": {
    "scrolled": true
   },
   "outputs": [],
   "source": [
    "s_p11 = [\"s_p11_avg_K500_smc_grid_21x21_T_144\", \"s_p11_var_K500_smc_grid_21x21_T_144\"] \n",
    "r_p11 = [\"r_p11_avg_K500_smc_grid_21x21_T_144\", \"r_p11_var_K500_smc_grid_21x21_T_144\"]\n",
    "\n",
    "plot_multi(s_p11)\n",
    "plot_multi(r_p11)"
   ]
  },
  {
   "cell_type": "code",
   "execution_count": null,
   "metadata": {
    "scrolled": true
   },
   "outputs": [],
   "source": [
    "multi_snap_printer(s_p11[0], [1], maxcols=1, smax=1.0, smin=0.01, cmap='RdYlGn')\n",
    "multi_snap_printer(r_p11[0], [1], maxcols=1, cmap='PuOr', symmetric=True)"
   ]
  },
  {
   "cell_type": "code",
   "execution_count": null,
   "metadata": {},
   "outputs": [],
   "source": [
    "prop = 'poi'\n",
    "files = ['r_' + prop + \"_avg_K500_smc_grid_21x21_T_144\", 's_' + prop + \"_avg_K500_smc_grid_21x21_T_144\"]\n",
    "\n",
    "for f in files:\n",
    "    multi_snap_printer(f, interesting_snaps, width=0.040, left=0.84)"
   ]
  },
  {
   "cell_type": "code",
   "execution_count": null,
   "metadata": {},
   "outputs": [],
   "source": [
    "prop = 'p33'\n",
    "\n",
    "filename = 'r_' + prop + \"_avg_K500_smc_grid_21x21_T_144\"\n",
    "#generate_gif(filename)\n",
    "\n",
    "filename = 's_' + prop + \"_avg_K500_smc_grid_21x21_T_144\"\n",
    "#generate_gif(filename)"
   ]
  },
  {
   "cell_type": "code",
   "execution_count": null,
   "metadata": {},
   "outputs": [],
   "source": [
    "prop = 'poi'\n",
    "#files = ['g4_r_' + prop + \"_avg_K500_smc_grid_21x21_T_144\", 's_' + prop + \"_avg_K500_smc_grid_21x21_T_144\"]\n",
    "\n",
    "#for f in files:\n",
    "#    multi_snap_printer(f, interesting_snaps, width=0.040, left=0.84)\n",
    "    \n",
    "files = ['g5_r_' + prop + \"_avg_K500_smc_grid_21x21_T_144\", 'g5_s_' + prop + \"_avg_K500_smc_grid_21x21_T_144\"]\n",
    "\n",
    "for f in files:\n",
    "    multi_snap_printer(f, interesting_snaps, width=0.040, left=0.84)"
   ]
  },
  {
   "cell_type": "code",
   "execution_count": null,
   "metadata": {},
   "outputs": [],
   "source": [
    "files = [\"r_p1_avg_K500_smc_grid_21x21_T_144\", \"s_p1_avg_K500_smc_grid_21x21_T_144\"]\n",
    "\n",
    "for f in files:\n",
    "    multi_snap_printer(f, interesting_snaps, width=0.040, left=0.84)"
   ]
  },
  {
   "cell_type": "code",
   "execution_count": 9,
   "metadata": {},
   "outputs": [
    {
     "ename": "FileNotFoundError",
     "evalue": "[Errno 2] No such file or directory: 'C:/Users/ennio/source/repos/bayessmc/CARar_3_steps_ahead/r_p3_avg_K500_smc_grid_21x21_T_144.csv'",
     "output_type": "error",
     "traceback": [
      "\u001b[1;31m---------------------------------------------------------------------------\u001b[0m",
      "\u001b[1;31mFileNotFoundError\u001b[0m                         Traceback (most recent call last)",
      "\u001b[1;32m<ipython-input-9-1a6fc27a89d2>\u001b[0m in \u001b[0;36m<module>\u001b[1;34m\u001b[0m\n\u001b[0;32m      2\u001b[0m \u001b[1;33m\u001b[0m\u001b[0m\n\u001b[0;32m      3\u001b[0m \u001b[1;32mfor\u001b[0m \u001b[0mf\u001b[0m \u001b[1;32min\u001b[0m \u001b[0mfiles\u001b[0m\u001b[1;33m:\u001b[0m\u001b[1;33m\u001b[0m\u001b[0m\n\u001b[1;32m----> 4\u001b[1;33m     \u001b[0mmulti_snap_printer\u001b[0m\u001b[1;33m(\u001b[0m\u001b[0mf\u001b[0m\u001b[1;33m,\u001b[0m \u001b[0minteresting_snaps\u001b[0m\u001b[1;33m,\u001b[0m \u001b[0mwidth\u001b[0m\u001b[1;33m=\u001b[0m\u001b[1;36m0.040\u001b[0m\u001b[1;33m,\u001b[0m \u001b[0mleft\u001b[0m\u001b[1;33m=\u001b[0m\u001b[1;36m0.84\u001b[0m\u001b[1;33m)\u001b[0m\u001b[1;33m\u001b[0m\u001b[0m\n\u001b[0m",
      "\u001b[1;32m<ipython-input-6-82ce659d9a09>\u001b[0m in \u001b[0;36mmulti_snap_printer\u001b[1;34m(filename, snaps, directory, path, maxcols, width, left, smin, smax, cmap, symmetric)\u001b[0m\n\u001b[0;32m      1\u001b[0m def multi_snap_printer(filename, snaps, directory=data_dir, path=abs_path, maxcols=3, width=0.05, left=0.85\n\u001b[0;32m      2\u001b[0m                       ,smin=0, smax=0, cmap='', symmetric=False):\n\u001b[1;32m----> 3\u001b[1;33m     \u001b[0mdf\u001b[0m \u001b[1;33m=\u001b[0m \u001b[0mpd\u001b[0m\u001b[1;33m.\u001b[0m\u001b[0mread_csv\u001b[0m\u001b[1;33m(\u001b[0m\u001b[0mpath\u001b[0m \u001b[1;33m+\u001b[0m \u001b[0mdirectory\u001b[0m \u001b[1;33m+\u001b[0m \u001b[1;34m'/'\u001b[0m \u001b[1;33m+\u001b[0m \u001b[0mfilename\u001b[0m \u001b[1;33m+\u001b[0m \u001b[1;34m\".csv\"\u001b[0m\u001b[1;33m)\u001b[0m\u001b[1;33m\u001b[0m\u001b[0m\n\u001b[0m\u001b[0;32m      4\u001b[0m \u001b[1;33m\u001b[0m\u001b[0m\n\u001b[0;32m      5\u001b[0m     \u001b[1;31m# Data refactoring\u001b[0m\u001b[1;33m\u001b[0m\u001b[1;33m\u001b[0m\u001b[0m\n",
      "\u001b[1;32m~\\AppData\\Local\\Programs\\Python\\Python36-32\\lib\\site-packages\\pandas\\io\\parsers.py\u001b[0m in \u001b[0;36mread_csv\u001b[1;34m(filepath_or_buffer, sep, delimiter, header, names, index_col, usecols, squeeze, prefix, mangle_dupe_cols, dtype, engine, converters, true_values, false_values, skipinitialspace, skiprows, skipfooter, nrows, na_values, keep_default_na, na_filter, verbose, skip_blank_lines, parse_dates, infer_datetime_format, keep_date_col, date_parser, dayfirst, cache_dates, iterator, chunksize, compression, thousands, decimal, lineterminator, quotechar, quoting, doublequote, escapechar, comment, encoding, dialect, error_bad_lines, warn_bad_lines, delim_whitespace, low_memory, memory_map, float_precision)\u001b[0m\n\u001b[0;32m    686\u001b[0m     )\n\u001b[0;32m    687\u001b[0m \u001b[1;33m\u001b[0m\u001b[0m\n\u001b[1;32m--> 688\u001b[1;33m     \u001b[1;32mreturn\u001b[0m \u001b[0m_read\u001b[0m\u001b[1;33m(\u001b[0m\u001b[0mfilepath_or_buffer\u001b[0m\u001b[1;33m,\u001b[0m \u001b[0mkwds\u001b[0m\u001b[1;33m)\u001b[0m\u001b[1;33m\u001b[0m\u001b[0m\n\u001b[0m\u001b[0;32m    689\u001b[0m \u001b[1;33m\u001b[0m\u001b[0m\n\u001b[0;32m    690\u001b[0m \u001b[1;33m\u001b[0m\u001b[0m\n",
      "\u001b[1;32m~\\AppData\\Local\\Programs\\Python\\Python36-32\\lib\\site-packages\\pandas\\io\\parsers.py\u001b[0m in \u001b[0;36m_read\u001b[1;34m(filepath_or_buffer, kwds)\u001b[0m\n\u001b[0;32m    452\u001b[0m \u001b[1;33m\u001b[0m\u001b[0m\n\u001b[0;32m    453\u001b[0m     \u001b[1;31m# Create the parser.\u001b[0m\u001b[1;33m\u001b[0m\u001b[1;33m\u001b[0m\u001b[0m\n\u001b[1;32m--> 454\u001b[1;33m     \u001b[0mparser\u001b[0m \u001b[1;33m=\u001b[0m \u001b[0mTextFileReader\u001b[0m\u001b[1;33m(\u001b[0m\u001b[0mfp_or_buf\u001b[0m\u001b[1;33m,\u001b[0m \u001b[1;33m**\u001b[0m\u001b[0mkwds\u001b[0m\u001b[1;33m)\u001b[0m\u001b[1;33m\u001b[0m\u001b[0m\n\u001b[0m\u001b[0;32m    455\u001b[0m \u001b[1;33m\u001b[0m\u001b[0m\n\u001b[0;32m    456\u001b[0m     \u001b[1;32mif\u001b[0m \u001b[0mchunksize\u001b[0m \u001b[1;32mor\u001b[0m \u001b[0miterator\u001b[0m\u001b[1;33m:\u001b[0m\u001b[1;33m\u001b[0m\u001b[0m\n",
      "\u001b[1;32m~\\AppData\\Local\\Programs\\Python\\Python36-32\\lib\\site-packages\\pandas\\io\\parsers.py\u001b[0m in \u001b[0;36m__init__\u001b[1;34m(self, f, engine, **kwds)\u001b[0m\n\u001b[0;32m    946\u001b[0m             \u001b[0mself\u001b[0m\u001b[1;33m.\u001b[0m\u001b[0moptions\u001b[0m\u001b[1;33m[\u001b[0m\u001b[1;34m\"has_index_names\"\u001b[0m\u001b[1;33m]\u001b[0m \u001b[1;33m=\u001b[0m \u001b[0mkwds\u001b[0m\u001b[1;33m[\u001b[0m\u001b[1;34m\"has_index_names\"\u001b[0m\u001b[1;33m]\u001b[0m\u001b[1;33m\u001b[0m\u001b[0m\n\u001b[0;32m    947\u001b[0m \u001b[1;33m\u001b[0m\u001b[0m\n\u001b[1;32m--> 948\u001b[1;33m         \u001b[0mself\u001b[0m\u001b[1;33m.\u001b[0m\u001b[0m_make_engine\u001b[0m\u001b[1;33m(\u001b[0m\u001b[0mself\u001b[0m\u001b[1;33m.\u001b[0m\u001b[0mengine\u001b[0m\u001b[1;33m)\u001b[0m\u001b[1;33m\u001b[0m\u001b[0m\n\u001b[0m\u001b[0;32m    949\u001b[0m \u001b[1;33m\u001b[0m\u001b[0m\n\u001b[0;32m    950\u001b[0m     \u001b[1;32mdef\u001b[0m \u001b[0mclose\u001b[0m\u001b[1;33m(\u001b[0m\u001b[0mself\u001b[0m\u001b[1;33m)\u001b[0m\u001b[1;33m:\u001b[0m\u001b[1;33m\u001b[0m\u001b[0m\n",
      "\u001b[1;32m~\\AppData\\Local\\Programs\\Python\\Python36-32\\lib\\site-packages\\pandas\\io\\parsers.py\u001b[0m in \u001b[0;36m_make_engine\u001b[1;34m(self, engine)\u001b[0m\n\u001b[0;32m   1178\u001b[0m     \u001b[1;32mdef\u001b[0m \u001b[0m_make_engine\u001b[0m\u001b[1;33m(\u001b[0m\u001b[0mself\u001b[0m\u001b[1;33m,\u001b[0m \u001b[0mengine\u001b[0m\u001b[1;33m=\u001b[0m\u001b[1;34m\"c\"\u001b[0m\u001b[1;33m)\u001b[0m\u001b[1;33m:\u001b[0m\u001b[1;33m\u001b[0m\u001b[0m\n\u001b[0;32m   1179\u001b[0m         \u001b[1;32mif\u001b[0m \u001b[0mengine\u001b[0m \u001b[1;33m==\u001b[0m \u001b[1;34m\"c\"\u001b[0m\u001b[1;33m:\u001b[0m\u001b[1;33m\u001b[0m\u001b[0m\n\u001b[1;32m-> 1180\u001b[1;33m             \u001b[0mself\u001b[0m\u001b[1;33m.\u001b[0m\u001b[0m_engine\u001b[0m \u001b[1;33m=\u001b[0m \u001b[0mCParserWrapper\u001b[0m\u001b[1;33m(\u001b[0m\u001b[0mself\u001b[0m\u001b[1;33m.\u001b[0m\u001b[0mf\u001b[0m\u001b[1;33m,\u001b[0m \u001b[1;33m**\u001b[0m\u001b[0mself\u001b[0m\u001b[1;33m.\u001b[0m\u001b[0moptions\u001b[0m\u001b[1;33m)\u001b[0m\u001b[1;33m\u001b[0m\u001b[0m\n\u001b[0m\u001b[0;32m   1181\u001b[0m         \u001b[1;32melse\u001b[0m\u001b[1;33m:\u001b[0m\u001b[1;33m\u001b[0m\u001b[0m\n\u001b[0;32m   1182\u001b[0m             \u001b[1;32mif\u001b[0m \u001b[0mengine\u001b[0m \u001b[1;33m==\u001b[0m \u001b[1;34m\"python\"\u001b[0m\u001b[1;33m:\u001b[0m\u001b[1;33m\u001b[0m\u001b[0m\n",
      "\u001b[1;32m~\\AppData\\Local\\Programs\\Python\\Python36-32\\lib\\site-packages\\pandas\\io\\parsers.py\u001b[0m in \u001b[0;36m__init__\u001b[1;34m(self, src, **kwds)\u001b[0m\n\u001b[0;32m   2008\u001b[0m         \u001b[0mkwds\u001b[0m\u001b[1;33m[\u001b[0m\u001b[1;34m\"usecols\"\u001b[0m\u001b[1;33m]\u001b[0m \u001b[1;33m=\u001b[0m \u001b[0mself\u001b[0m\u001b[1;33m.\u001b[0m\u001b[0musecols\u001b[0m\u001b[1;33m\u001b[0m\u001b[0m\n\u001b[0;32m   2009\u001b[0m \u001b[1;33m\u001b[0m\u001b[0m\n\u001b[1;32m-> 2010\u001b[1;33m         \u001b[0mself\u001b[0m\u001b[1;33m.\u001b[0m\u001b[0m_reader\u001b[0m \u001b[1;33m=\u001b[0m \u001b[0mparsers\u001b[0m\u001b[1;33m.\u001b[0m\u001b[0mTextReader\u001b[0m\u001b[1;33m(\u001b[0m\u001b[0msrc\u001b[0m\u001b[1;33m,\u001b[0m \u001b[1;33m**\u001b[0m\u001b[0mkwds\u001b[0m\u001b[1;33m)\u001b[0m\u001b[1;33m\u001b[0m\u001b[0m\n\u001b[0m\u001b[0;32m   2011\u001b[0m         \u001b[0mself\u001b[0m\u001b[1;33m.\u001b[0m\u001b[0munnamed_cols\u001b[0m \u001b[1;33m=\u001b[0m \u001b[0mself\u001b[0m\u001b[1;33m.\u001b[0m\u001b[0m_reader\u001b[0m\u001b[1;33m.\u001b[0m\u001b[0munnamed_cols\u001b[0m\u001b[1;33m\u001b[0m\u001b[0m\n\u001b[0;32m   2012\u001b[0m \u001b[1;33m\u001b[0m\u001b[0m\n",
      "\u001b[1;32mpandas\\_libs\\parsers.pyx\u001b[0m in \u001b[0;36mpandas._libs.parsers.TextReader.__cinit__\u001b[1;34m()\u001b[0m\n",
      "\u001b[1;32mpandas\\_libs\\parsers.pyx\u001b[0m in \u001b[0;36mpandas._libs.parsers.TextReader._setup_parser_source\u001b[1;34m()\u001b[0m\n",
      "\u001b[1;31mFileNotFoundError\u001b[0m: [Errno 2] No such file or directory: 'C:/Users/ennio/source/repos/bayessmc/CARar_3_steps_ahead/r_p3_avg_K500_smc_grid_21x21_T_144.csv'"
     ]
    }
   ],
   "source": [
    "files = [\"r_p3_avg_K500_smc_grid_21x21_T_144\", \"s_p3_avg_K500_smc_grid_21x21_T_144\"]\n",
    "\n",
    "for f in files:\n",
    "    multi_snap_printer(f, interesting_snaps, width=0.040, left=0.84)"
   ]
  },
  {
   "cell_type": "code",
   "execution_count": null,
   "metadata": {},
   "outputs": [],
   "source": [
    "files = [\"r_p2_avg_K500_smc_grid_21x21_T_144\", \"s_p2_avg_K500_smc_grid_21x21_T_144\"]\n",
    "\n",
    "for f in files:\n",
    "    multi_snap_printer(f, interesting_snaps, width=0.040, left=0.84)"
   ]
  },
  {
   "cell_type": "code",
   "execution_count": null,
   "metadata": {},
   "outputs": [],
   "source": [
    "files = [\"r_p4_avg_K500_smc_grid_21x21_T_144\", \"s_p4_avg_K500_smc_grid_21x21_T_144\"]\n",
    "\n",
    "for f in files:\n",
    "    multi_snap_printer(f, interesting_snaps, width=0.040, left=0.84)"
   ]
  },
  {
   "cell_type": "code",
   "execution_count": null,
   "metadata": {},
   "outputs": [],
   "source": []
  },
  {
   "cell_type": "code",
   "execution_count": null,
   "metadata": {},
   "outputs": [],
   "source": []
  },
  {
   "cell_type": "code",
   "execution_count": null,
   "metadata": {},
   "outputs": [],
   "source": []
  }
 ],
 "metadata": {
  "kernelspec": {
   "display_name": "Python 3",
   "language": "python",
   "name": "python3"
  },
  "language_info": {
   "codemirror_mode": {
    "name": "ipython",
    "version": 3
   },
   "file_extension": ".py",
   "mimetype": "text/x-python",
   "name": "python",
   "nbconvert_exporter": "python",
   "pygments_lexer": "ipython3",
   "version": "3.6.5"
  }
 },
 "nbformat": 4,
 "nbformat_minor": 2
}
