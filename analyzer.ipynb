{
  "nbformat": 4,
  "nbformat_minor": 0,
  "metadata": {
    "kernelspec": {
      "display_name": "Python 3",
      "language": "python",
      "name": "python3"
    },
    "language_info": {
      "codemirror_mode": {
        "name": "ipython",
        "version": 3
      },
      "file_extension": ".py",
      "mimetype": "text/x-python",
      "name": "python",
      "nbconvert_exporter": "python",
      "pygments_lexer": "ipython3",
      "version": "3.6.5"
    },
    "colab": {
      "name": "analyzer.ipynb",
      "provenance": [],
      "include_colab_link": true
    }
  },
  "cells": [
    {
      "cell_type": "markdown",
      "metadata": {
        "id": "view-in-github",
        "colab_type": "text"
      },
      "source": [
        "<a href=\"https://colab.research.google.com/github/ennioVisco/bayesformal/blob/master/analyzer.ipynb\" target=\"_parent\"><img src=\"https://colab.research.google.com/assets/colab-badge.svg\" alt=\"Open In Colab\"/></a>"
      ]
    },
    {
      "cell_type": "markdown",
      "metadata": {
        "id": "4Ri6A-PQ8daJ"
      },
      "source": [
        "# Trajectories analysis for Bayes-Formal project\n",
        "In what follows, a set of utilities for transforming, plotting and analyzing the data can be found.\n",
        "There are currently three sources of data:\n",
        "\n",
        "*   The *real data* comming from measuring the mobile traffic.\n",
        "*   The *predicted crowdedness* resulting from the Bayesian prediction\n",
        "* The *satisfaction* and *robustness* traces resulting from the monitoring process, may them be aggregated by the Statistical Model Checking process, or analyzed independently.\n",
        "\n",
        "\n",
        "*   List item\n",
        "*   List item\n",
        "\n",
        "\n"
      ]
    },
    {
      "cell_type": "markdown",
      "metadata": {
        "id": "PtidqZzG-rlD"
      },
      "source": [
        "## Preliminaries"
      ]
    },
    {
      "cell_type": "code",
      "metadata": {
        "colab": {
          "base_uri": "https://localhost:8080/"
        },
        "id": "jRNV58C88Yu3",
        "outputId": "14f2e306-c35f-4aed-da76-871685b76f55"
      },
      "source": [
        "# Load the libraries with usual aliases\n",
        "\n",
        "# Basics\n",
        "import numpy as np\n",
        "from numpy import inf\n",
        "import pandas as pd \n",
        "import xarray as xr\n",
        "import os, glob\n",
        "import imageio\n",
        "\n",
        "# Matplotlib\n",
        "import matplotlib.pyplot as plt\n",
        "from matplotlib import cm\n",
        "from matplotlib import colors\n",
        "import matplotlib.animation as animation\n",
        "from matplotlib.colors import LogNorm\n",
        "from matplotlib.ticker import MultipleLocator, MaxNLocator\n",
        "from mpl_toolkits.mplot3d import Axes3D\n",
        "from mpl_toolkits.axes_grid1 import make_axes_locatable\n",
        "\n",
        "# Extras\n",
        "!pip install qnorm\n",
        "import qnorm\n"
      ],
      "execution_count": 68,
      "outputs": [
        {
          "output_type": "stream",
          "text": [
            "Requirement already satisfied: qnorm in /usr/local/lib/python3.7/dist-packages (0.7.0)\n",
            "Requirement already satisfied: numba in /usr/local/lib/python3.7/dist-packages (from qnorm) (0.51.2)\n",
            "Requirement already satisfied: numpy in /usr/local/lib/python3.7/dist-packages (from qnorm) (1.19.5)\n",
            "Requirement already satisfied: setuptools in /usr/local/lib/python3.7/dist-packages (from numba->qnorm) (57.0.0)\n",
            "Requirement already satisfied: llvmlite<0.35,>=0.34.0.dev0 in /usr/local/lib/python3.7/dist-packages (from numba->qnorm) (0.34.0)\n"
          ],
          "name": "stdout"
        }
      ]
    },
    {
      "cell_type": "code",
      "metadata": {
        "id": "occnAF038Yu9"
      },
      "source": [
        "# Global settings that might be used by all the scripts\n",
        "plt.rcParams.update({'font.size': 20})  # plots' font size\n",
        "\n",
        "# Absolute Path\n",
        "abs_path = \"https://raw.githubusercontent.com/ennioVisco/bayesformal/master/\"\n",
        "monitoring_dir = \"output/\"\n",
        "resources_dir = \"src/main/resources/\"\n",
        "\n",
        "# Directories taken into account for loading/storing results\n",
        "data_dir = \"CARar_3_steps_ahead\"\n",
        "chart_dir = \"charts\"\n",
        "\n",
        "# Interesting time-points for multi-figure plotting\n",
        "interesting_snaps = [1, 49, 111] # T = 0:00, 8:00, 19:10\n",
        "\n",
        "# Aggregated trajectories files taken into account \n",
        "# for average and variance robustness\n",
        "avg_files = [ \"r_p1_avg_K500_smc_grid_21x21_T_144\"\n",
        "            , \"r_p2_avg_K500_smc_grid_21x21_T_144\"\n",
        "            , \"r_p3_avg_K500_smc_grid_21x21_T_144\" ]\n",
        "var_files = [ \"r_p1_var_K500_smc_grid_21x21_T_144\"\n",
        "            , \"r_p2_avg_K500_smc_grid_21x21_T_144\"\n",
        "            , \"r_p3_var_K500_smc_grid_21x21_T_144\" ]\n",
        "\n"
      ],
      "execution_count": 69,
      "outputs": []
    },
    {
      "cell_type": "code",
      "metadata": {
        "id": "o8QJC89Y8YvA"
      },
      "source": [
        "def plot_graph(filename, directory=data_dir, path=abs_path, \n",
        "               index=\"\", func=lambda x: x):\n",
        "  \"\"\"\n",
        "  This function plots a chart, given some trajectory loaded from a csv file.\n",
        "  ...\n",
        "  Parameters\n",
        "  ----------\n",
        "  filename : str\n",
        "      The name of the file to load\n",
        "  directory : str, optional\n",
        "      The directory from which the file will be loaded\n",
        "  path : str, optional\n",
        "      The path from which the file will be loaded\n",
        "  index : str, optional\n",
        "      The column-indentifier over which the data will be indexed\n",
        "  func : lambda, optional\n",
        "      A lambda that will be executed on the fetched data, before plotting\n",
        "  \"\"\"\n",
        "  data = pd.read_csv(path + directory + \"/\" + filename + \".csv\")\n",
        "  if index != \"\":\n",
        "      data = data.set_index(index)\n",
        "  data = func(data)\n",
        "  fig = plt.figure()\n",
        "  fig.suptitle(filename)\n",
        "  fig.set_size_inches(20,10)\n",
        "  plt.imshow(data.values, aspect='auto')\n",
        "  plt.colorbar()\n",
        "  plt.show()"
      ],
      "execution_count": 70,
      "outputs": []
    },
    {
      "cell_type": "code",
      "metadata": {
        "id": "bFyDkq_L8YvB"
      },
      "source": [
        "def plot_multi(filenames, func=lambda x: x, directory=data_dir, path=abs_path, \n",
        "               maxcols=2, width=20, height=10):\n",
        "  \"\"\"\n",
        "  This function plots multiple charts, given some trajectories loaded \n",
        "  from a set of csv files. Indexed over a set of \"Spaces\"\n",
        "  ...\n",
        "  Parameters\n",
        "  ----------\n",
        "  filenames : dict(str)\n",
        "      The name of the files to load\n",
        "  func : lambda, optional\n",
        "      A lambda that will be executed on each fetched dataset, before plotting\n",
        "  directory : str, optional\n",
        "      The directory from which the file will be loaded\n",
        "  path : str, optional\n",
        "      The path from which the file will be loaded\n",
        "  maxcols : int, optional\n",
        "      Number of columns to consider for the multi-plot \n",
        "      (rows are determined automatically)\n",
        "  width : int, optional\n",
        "      Width of the produced set of charts\n",
        "  height : int, optional\n",
        "      height of the produced set of charts\n",
        "  \"\"\"\n",
        "  # Data Preparation\n",
        "  nrows = - (- len(filenames) // maxcols)\n",
        "  for x in filenames:\n",
        "    print(path + directory + \"/\" + x + \".csv?token=AAFUVOOCYXSWF7VPGM5XDLTAY5EG4\")\n",
        "  d = list(map(lambda x: pd.read_csv(path + directory + \"/\" + x + \".csv?token=AAFUVOOCYXSWF7VPGM5XDLTAY5EG4\").set_index(\"Space\"), filenames))\n",
        "  d = list(map(func, d))\n",
        "  dmin = min(map(lambda y: y.min().min(), d))\n",
        "  dmax = max(map(lambda x: x.max().max(), d))\n",
        "  \n",
        "  # Figure Generation\n",
        "  plt.figure(1)\n",
        "  fig, axes = plt.subplots(nrows, maxcols)\n",
        "  i = 0\n",
        "  for data, ax in zip(d, axes.ravel()):\n",
        "      ax.set_title(filenames[i])\n",
        "      im = ax.imshow(data.values, aspect='auto', vmin=dmin, vmax=dmax)\n",
        "      divider = make_axes_locatable(ax)\n",
        "      cax = divider.append_axes(\"right\", size=\"20%\", pad=0.05)\n",
        "      cbar = plt.colorbar(im, cax=cax, format=\"%.2f\")\n",
        "      i = i + 1\n",
        "  fig.set_size_inches(width, height)\n",
        "  plt.show()"
      ],
      "execution_count": 71,
      "outputs": []
    },
    {
      "cell_type": "code",
      "metadata": {
        "id": "7Z5b0ivV8YvD"
      },
      "source": [
        "def generate_gif(filename, path=abs_path, input_dir=data_dir, out_dir=chart_dir):\n",
        "  \"\"\"\n",
        "  This function saves a gif, given a csv time-based trajectory file. \n",
        "  ...\n",
        "  Parameters\n",
        "  ----------\n",
        "  filenames : dict(str)\n",
        "      The name of the files to load\n",
        "  path : str, optional\n",
        "      The path from which the file will be loaded\n",
        "  input_dir : str, optional\n",
        "      The directory from which the file will be loaded\n",
        "  output_dir : str, optional\n",
        "      The directory to which the gif will be stored\n",
        "  \"\"\"\n",
        "  df = pd.read_csv(path + input_dir + \"/\" + filename + \".csv\")\n",
        "  \n",
        "  dmin = df.drop(\"Space\", axis=1).replace([np.inf, -np.inf], 0).to_numpy().min()\n",
        "  dmax = df.drop(\"Space\", axis=1).replace([np.inf, -np.inf], 0).to_numpy().max()\n",
        "  \n",
        "  # Data refactoring\n",
        "  data = []\n",
        "  for j in range(1, 141):\n",
        "      dfs = []\n",
        "      i = 0\n",
        "      for i in range(0, 21): \n",
        "          dfs.append(df.iloc[(21 * i):(21 * i + 21), j:(j + 1)].to_numpy())\n",
        "\n",
        "      dfs = np.asarray(dfs)\n",
        "      data.append(np.reshape(dfs, (21, 21)))\n",
        "      \n",
        "  with plt.rc_context({'font.size': 16}):\n",
        "      # Plots with Fixed colorbar    \n",
        "      for i in np.arange(140):\n",
        "          plt.figure()\n",
        "          plt.title(filename + '\\nTime point: ' + str(i), pad=\"10\")\n",
        "          plt.imshow(data[i], origin='lower', vmin=dmin, vmax=dmax), plt.colorbar()\n",
        "          plt.savefig(path + out_dir + '/temp/' + 'snap_' + str(i) + '_' + filename + '.png')\n",
        "\n",
        "  snap1 = glob.glob(path + out_dir + '/temp/' + 'snap_[0-9]_' + filename + '.png') \n",
        "  snap2 = glob.glob(path + out_dir + '/temp/' + 'snap_[0-9][0-9]_' + filename + '.png')\n",
        "  snap3 = glob.glob(path + out_dir + '/temp/' + 'snap_[0-9][0-9][0-9]_' + filename + '.png')\n",
        "  snaps = snap1 + snap2 + snap3\n",
        "\n",
        "  fix = [imageio.imread(file) for file in snaps]\n",
        "\n",
        "  imageio.mimsave(path + out_dir + '/movie_' + filename + '.gif', fix, fps = 3)"
      ],
      "execution_count": 72,
      "outputs": []
    },
    {
      "cell_type": "code",
      "metadata": {
        "id": "M8D-nduh8YvG"
      },
      "source": [
        "def multi_snap_printer(filename, snaps, directory=data_dir, path=abs_path, \n",
        "                       maxcols=3, width=0.05, left=0.85, \n",
        "                       smin=0, smax=0, cmap='', symmetric=False):\n",
        "  \"\"\"\n",
        "  This function plots a multi-snapshot chart, given a csv trajectory file. \n",
        "  ...\n",
        "  Parameters\n",
        "  ----------\n",
        "  filenames : dict(str)\n",
        "      The name of the files to load\n",
        "  snaps : dict(int)\n",
        "      The set of snapshot to consider for the multi-plot\n",
        "  directory : str, optional\n",
        "      The directory from which the file will be loaded\n",
        "  path : str, optional\n",
        "      The path from which the file will be loaded\n",
        "  maxcols : int, optional\n",
        "      Number of columns to consider for the multi-plot \n",
        "      (rows are determined automatically)\n",
        "  width : double, optional\n",
        "      Width of the produced set of charts\n",
        "  left : double, optional\n",
        "      left padding of the horizontal legend\n",
        "  smin : double, optional\n",
        "      Minimum boundary to which exceeding data will be flattened\n",
        "  smax : double, optional\n",
        "      Maximum boundary to which exceeding data will be flattened\n",
        "  cmap : str, optional\n",
        "      Colormap to consider for the plots\n",
        "  symmetric : bool, optional\n",
        "      Makes adaptations to show a symmetric scale for the plot\n",
        "  \"\"\"\n",
        "  df = pd.read_csv(path + directory + '/' + filename + \".csv\")\n",
        "\n",
        "  # Data refactoring\n",
        "  d = []\n",
        "  for j in snaps:\n",
        "    dfs = []\n",
        "    i = 0\n",
        "    for i in range(0, 21): \n",
        "      dfs.append(df.iloc[(21 * i):(21 * i + 21), j:(j + 1)].to_numpy())\n",
        "\n",
        "    dfs = np.asarray(dfs)\n",
        "    d.append(np.reshape(dfs, (21, 21)))\n",
        "  \n",
        "  d2 = np.nan_to_num(d, neginf=0, posinf=0)\n",
        "  dmax = max(list(map(lambda x: x.max(), d2)))\n",
        "  dmin = max(list(map(lambda x: x.min(), d2)))\n",
        "  if(abs(dmax) > abs(dmin) and symmetric):\n",
        "    dmin = - dmax\n",
        "  elif(symmetric):\n",
        "    dmax = - dmin\n",
        "  #print(\"MAX:\" + str(dmax) + \"| MIN:\" + str(dmin))\n",
        "  if smin != 0:\n",
        "    dmin = smin\n",
        "    d = np.nan_to_num(d, neginf=smin)\n",
        "  if smax != 0:\n",
        "    dmax = smax\n",
        "    d = np.nan_to_num(d, posinf=smin)\n",
        "  \n",
        "  # Grid Ticks\n",
        "  major_ticks = np.arange(4.5, 20, 5)\n",
        "  minor_ticks = np.arange(0.5, 20, 1)\n",
        "\n",
        "  # Figure\n",
        "  plt.figure(1)\n",
        "  if maxcols != 1:\n",
        "    fig, axes = plt.subplots(1, maxcols)\n",
        "    i = 0\n",
        "    for data, ax in zip(d, axes.ravel()):\n",
        "      ax = _helper(data, snaps, ax, i, fig, dmin, dmax, cmap, \n",
        "                    major_ticks, minor_ticks, width, left)\n",
        "      fig.set_size_inches(20, 5)\n",
        "      i = i + 1\n",
        "  else: \n",
        "    fig, axes = plt.subplots(1, 1)\n",
        "    axes = _helper(d[0], snaps, axes, 0, fig, dmin, dmax, cmap, \n",
        "                    major_ticks, minor_ticks, width, left)\n",
        "    fig.set_size_inches(6, 5)\n",
        "  \n",
        "  plt.show()\n",
        "    \n",
        "def _helper(data, snaps, ax, n, fig, dmin, dmax, cmap, \n",
        "            major_ticks, minor_ticks, width, left):\n",
        "  hour = (snaps[n] - 1) // 6\n",
        "  minutes = ((snaps[n] - 1) % 6) * 10\n",
        "  if minutes == 0:\n",
        "      minutes = \"00\"\n",
        "  #ax.set_title(\"snap_t\" + str(snaps[i]-1) + '_' + filename)\n",
        "  if cmap == '':\n",
        "      im = ax.imshow(data, origin='lower', aspect='auto', vmin=dmin, vmax=dmax)\n",
        "  else:\n",
        "      im = ax.imshow(data, origin='lower', aspect='auto', vmin=dmin, vmax=dmax, cmap=cmap)\n",
        "\n",
        "  ax.set_title(\"Clock Time: \" + str(hour) + \":\" + str(minutes), pad=\"10\")\n",
        "  ax.set_xticks(major_ticks)\n",
        "  ax.set_xticks(minor_ticks, minor=True)\n",
        "  ax.set_yticks(major_ticks)\n",
        "  ax.set_yticks(minor_ticks, minor=True)\n",
        "  ax.set_ylim(bottom=-0.5)\n",
        "  ax.set_xlim(left=-0.5)\n",
        "  ax.set_xticklabels([])\n",
        "  ax.set_yticklabels([])\n",
        "  ax.grid(which='major', color='#000000', linestyle='--')\n",
        "  ax.grid(which='minor', color='#CCCCCC', linestyle=':')\n",
        "  fig.subplots_adjust(right=0.8)\n",
        "  cbar_ax = fig.add_axes([left, 0.15, width, 0.7])\n",
        "  fig.colorbar(im, cax=cbar_ax)\n",
        "  \n",
        "  return ax"
      ],
      "execution_count": 73,
      "outputs": []
    },
    {
      "cell_type": "markdown",
      "metadata": {
        "id": "nxHiHpST_FVx"
      },
      "source": [
        "## Basic Plotting"
      ]
    },
    {
      "cell_type": "code",
      "metadata": {
        "scrolled": true,
        "colab": {
          "base_uri": "https://localhost:8080/",
          "height": 425
        },
        "id": "4GfonuQM8YvU",
        "outputId": "6c3fee83-21b8-4e76-fdc8-c88594c5e2f1"
      },
      "source": [
        "# Average & Variance Plotting\n",
        "plot_multi(avg_files, path=abs_path+monitoring_dir, maxcols=4)\n",
        "plot_multi(var_files, path=abs_path+monitoring_dir, maxcols=4)\n",
        "\n",
        "input_trajectory = \"data_matrix_20131111\"\n",
        "\n",
        "plot_graph(input_trajectory)\n",
        "plot_graph(input_trajectory, func=qnorm.quantile_normalize)\n",
        "plot_graph(input_trajectory, func=lambda x: qnorm.quantile_normalize(x.transpose()).transpose())\n",
        "\n",
        "filename = \"r_p3_avg_K500_smc_grid_21x21_T_144\"\n",
        "\n",
        "plot_graph(filename, index=\"Space\", func=qnorm.quantile_normalize)\n",
        "#plot_graph(filename, index=\"Space\", func=lambda x: qnorm.quantile_normalize(x.transpose()).transpose())\n",
        "\n",
        "# Normalized Input\n",
        "#plot_multi(avg_files, directory=data_dir + \"/norm\", maxcols=4)\n",
        "#plot_multi(var_files, directory=data_dir + \"/norm\", maxcols=4)\n",
        "\n",
        "# Normalized Output\n",
        "#plot_multi(avg_files, func=qnorm.quantile_normalize)\n",
        "#plot_multi(var_files, func=qnorm.quantile_normalize)"
      ],
      "execution_count": 74,
      "outputs": [
        {
          "output_type": "stream",
          "text": [
            "https://raw.githubusercontent.com/ennioVisco/bayesformal/master/output/CARar_3_steps_ahead/r_p1_avg_K500_smc_grid_21x21_T_144.csv?token=AAFUVOOCYXSWF7VPGM5XDLTAY5EG4\n",
            "https://raw.githubusercontent.com/ennioVisco/bayesformal/master/output/CARar_3_steps_ahead/r_p2_avg_K500_smc_grid_21x21_T_144.csv?token=AAFUVOOCYXSWF7VPGM5XDLTAY5EG4\n",
            "https://raw.githubusercontent.com/ennioVisco/bayesformal/master/output/CARar_3_steps_ahead/r_p3_avg_K500_smc_grid_21x21_T_144.csv?token=AAFUVOOCYXSWF7VPGM5XDLTAY5EG4\n"
          ],
          "name": "stdout"
        },
        {
          "output_type": "error",
          "ename": "HTTPError",
          "evalue": "ignored",
          "traceback": [
            "\u001b[0;31m---------------------------------------------------------------------------\u001b[0m",
            "\u001b[0;31mHTTPError\u001b[0m                                 Traceback (most recent call last)",
            "\u001b[0;32m<ipython-input-74-901f49fe0cf3>\u001b[0m in \u001b[0;36m<module>\u001b[0;34m()\u001b[0m\n\u001b[1;32m      1\u001b[0m \u001b[0;31m# Average & Variance Plotting\u001b[0m\u001b[0;34m\u001b[0m\u001b[0;34m\u001b[0m\u001b[0;34m\u001b[0m\u001b[0m\n\u001b[0;32m----> 2\u001b[0;31m \u001b[0mplot_multi\u001b[0m\u001b[0;34m(\u001b[0m\u001b[0mavg_files\u001b[0m\u001b[0;34m,\u001b[0m \u001b[0mpath\u001b[0m\u001b[0;34m=\u001b[0m\u001b[0mabs_path\u001b[0m\u001b[0;34m+\u001b[0m\u001b[0mmonitoring_dir\u001b[0m\u001b[0;34m,\u001b[0m \u001b[0mmaxcols\u001b[0m\u001b[0;34m=\u001b[0m\u001b[0;36m4\u001b[0m\u001b[0;34m)\u001b[0m\u001b[0;34m\u001b[0m\u001b[0;34m\u001b[0m\u001b[0m\n\u001b[0m\u001b[1;32m      3\u001b[0m \u001b[0mplot_multi\u001b[0m\u001b[0;34m(\u001b[0m\u001b[0mvar_files\u001b[0m\u001b[0;34m,\u001b[0m \u001b[0mpath\u001b[0m\u001b[0;34m=\u001b[0m\u001b[0mabs_path\u001b[0m\u001b[0;34m+\u001b[0m\u001b[0mmonitoring_dir\u001b[0m\u001b[0;34m,\u001b[0m \u001b[0mmaxcols\u001b[0m\u001b[0;34m=\u001b[0m\u001b[0;36m4\u001b[0m\u001b[0;34m)\u001b[0m\u001b[0;34m\u001b[0m\u001b[0;34m\u001b[0m\u001b[0m\n\u001b[1;32m      4\u001b[0m \u001b[0;34m\u001b[0m\u001b[0m\n\u001b[1;32m      5\u001b[0m \u001b[0minput_trajectory\u001b[0m \u001b[0;34m=\u001b[0m \u001b[0;34m\"data_matrix_20131111\"\u001b[0m\u001b[0;34m\u001b[0m\u001b[0;34m\u001b[0m\u001b[0m\n",
            "\u001b[0;32m<ipython-input-71-1ae8f623a779>\u001b[0m in \u001b[0;36mplot_multi\u001b[0;34m(filenames, func, directory, path, maxcols, width, height)\u001b[0m\n\u001b[1;32m     27\u001b[0m   \u001b[0;32mfor\u001b[0m \u001b[0mx\u001b[0m \u001b[0;32min\u001b[0m \u001b[0mfilenames\u001b[0m\u001b[0;34m:\u001b[0m\u001b[0;34m\u001b[0m\u001b[0;34m\u001b[0m\u001b[0m\n\u001b[1;32m     28\u001b[0m     \u001b[0mprint\u001b[0m\u001b[0;34m(\u001b[0m\u001b[0mpath\u001b[0m \u001b[0;34m+\u001b[0m \u001b[0mdirectory\u001b[0m \u001b[0;34m+\u001b[0m \u001b[0;34m\"/\"\u001b[0m \u001b[0;34m+\u001b[0m \u001b[0mx\u001b[0m \u001b[0;34m+\u001b[0m \u001b[0;34m\".csv?token=AAFUVOOCYXSWF7VPGM5XDLTAY5EG4\"\u001b[0m\u001b[0;34m)\u001b[0m\u001b[0;34m\u001b[0m\u001b[0;34m\u001b[0m\u001b[0m\n\u001b[0;32m---> 29\u001b[0;31m   \u001b[0md\u001b[0m \u001b[0;34m=\u001b[0m \u001b[0mlist\u001b[0m\u001b[0;34m(\u001b[0m\u001b[0mmap\u001b[0m\u001b[0;34m(\u001b[0m\u001b[0;32mlambda\u001b[0m \u001b[0mx\u001b[0m\u001b[0;34m:\u001b[0m \u001b[0mpd\u001b[0m\u001b[0;34m.\u001b[0m\u001b[0mread_csv\u001b[0m\u001b[0;34m(\u001b[0m\u001b[0mpath\u001b[0m \u001b[0;34m+\u001b[0m \u001b[0mdirectory\u001b[0m \u001b[0;34m+\u001b[0m \u001b[0;34m\"/\"\u001b[0m \u001b[0;34m+\u001b[0m \u001b[0mx\u001b[0m \u001b[0;34m+\u001b[0m \u001b[0;34m\".csv?token=AAFUVOOCYXSWF7VPGM5XDLTAY5EG4\"\u001b[0m\u001b[0;34m)\u001b[0m\u001b[0;34m.\u001b[0m\u001b[0mset_index\u001b[0m\u001b[0;34m(\u001b[0m\u001b[0;34m\"Space\"\u001b[0m\u001b[0;34m)\u001b[0m\u001b[0;34m,\u001b[0m \u001b[0mfilenames\u001b[0m\u001b[0;34m)\u001b[0m\u001b[0;34m)\u001b[0m\u001b[0;34m\u001b[0m\u001b[0;34m\u001b[0m\u001b[0m\n\u001b[0m\u001b[1;32m     30\u001b[0m   \u001b[0md\u001b[0m \u001b[0;34m=\u001b[0m \u001b[0mlist\u001b[0m\u001b[0;34m(\u001b[0m\u001b[0mmap\u001b[0m\u001b[0;34m(\u001b[0m\u001b[0mfunc\u001b[0m\u001b[0;34m,\u001b[0m \u001b[0md\u001b[0m\u001b[0;34m)\u001b[0m\u001b[0;34m)\u001b[0m\u001b[0;34m\u001b[0m\u001b[0;34m\u001b[0m\u001b[0m\n\u001b[1;32m     31\u001b[0m   \u001b[0mdmin\u001b[0m \u001b[0;34m=\u001b[0m \u001b[0mmin\u001b[0m\u001b[0;34m(\u001b[0m\u001b[0mmap\u001b[0m\u001b[0;34m(\u001b[0m\u001b[0;32mlambda\u001b[0m \u001b[0my\u001b[0m\u001b[0;34m:\u001b[0m \u001b[0my\u001b[0m\u001b[0;34m.\u001b[0m\u001b[0mmin\u001b[0m\u001b[0;34m(\u001b[0m\u001b[0;34m)\u001b[0m\u001b[0;34m.\u001b[0m\u001b[0mmin\u001b[0m\u001b[0;34m(\u001b[0m\u001b[0;34m)\u001b[0m\u001b[0;34m,\u001b[0m \u001b[0md\u001b[0m\u001b[0;34m)\u001b[0m\u001b[0;34m)\u001b[0m\u001b[0;34m\u001b[0m\u001b[0;34m\u001b[0m\u001b[0m\n",
            "\u001b[0;32m<ipython-input-71-1ae8f623a779>\u001b[0m in \u001b[0;36m<lambda>\u001b[0;34m(x)\u001b[0m\n\u001b[1;32m     27\u001b[0m   \u001b[0;32mfor\u001b[0m \u001b[0mx\u001b[0m \u001b[0;32min\u001b[0m \u001b[0mfilenames\u001b[0m\u001b[0;34m:\u001b[0m\u001b[0;34m\u001b[0m\u001b[0;34m\u001b[0m\u001b[0m\n\u001b[1;32m     28\u001b[0m     \u001b[0mprint\u001b[0m\u001b[0;34m(\u001b[0m\u001b[0mpath\u001b[0m \u001b[0;34m+\u001b[0m \u001b[0mdirectory\u001b[0m \u001b[0;34m+\u001b[0m \u001b[0;34m\"/\"\u001b[0m \u001b[0;34m+\u001b[0m \u001b[0mx\u001b[0m \u001b[0;34m+\u001b[0m \u001b[0;34m\".csv?token=AAFUVOOCYXSWF7VPGM5XDLTAY5EG4\"\u001b[0m\u001b[0;34m)\u001b[0m\u001b[0;34m\u001b[0m\u001b[0;34m\u001b[0m\u001b[0m\n\u001b[0;32m---> 29\u001b[0;31m   \u001b[0md\u001b[0m \u001b[0;34m=\u001b[0m \u001b[0mlist\u001b[0m\u001b[0;34m(\u001b[0m\u001b[0mmap\u001b[0m\u001b[0;34m(\u001b[0m\u001b[0;32mlambda\u001b[0m \u001b[0mx\u001b[0m\u001b[0;34m:\u001b[0m \u001b[0mpd\u001b[0m\u001b[0;34m.\u001b[0m\u001b[0mread_csv\u001b[0m\u001b[0;34m(\u001b[0m\u001b[0mpath\u001b[0m \u001b[0;34m+\u001b[0m \u001b[0mdirectory\u001b[0m \u001b[0;34m+\u001b[0m \u001b[0;34m\"/\"\u001b[0m \u001b[0;34m+\u001b[0m \u001b[0mx\u001b[0m \u001b[0;34m+\u001b[0m \u001b[0;34m\".csv?token=AAFUVOOCYXSWF7VPGM5XDLTAY5EG4\"\u001b[0m\u001b[0;34m)\u001b[0m\u001b[0;34m.\u001b[0m\u001b[0mset_index\u001b[0m\u001b[0;34m(\u001b[0m\u001b[0;34m\"Space\"\u001b[0m\u001b[0;34m)\u001b[0m\u001b[0;34m,\u001b[0m \u001b[0mfilenames\u001b[0m\u001b[0;34m)\u001b[0m\u001b[0;34m)\u001b[0m\u001b[0;34m\u001b[0m\u001b[0;34m\u001b[0m\u001b[0m\n\u001b[0m\u001b[1;32m     30\u001b[0m   \u001b[0md\u001b[0m \u001b[0;34m=\u001b[0m \u001b[0mlist\u001b[0m\u001b[0;34m(\u001b[0m\u001b[0mmap\u001b[0m\u001b[0;34m(\u001b[0m\u001b[0mfunc\u001b[0m\u001b[0;34m,\u001b[0m \u001b[0md\u001b[0m\u001b[0;34m)\u001b[0m\u001b[0;34m)\u001b[0m\u001b[0;34m\u001b[0m\u001b[0;34m\u001b[0m\u001b[0m\n\u001b[1;32m     31\u001b[0m   \u001b[0mdmin\u001b[0m \u001b[0;34m=\u001b[0m \u001b[0mmin\u001b[0m\u001b[0;34m(\u001b[0m\u001b[0mmap\u001b[0m\u001b[0;34m(\u001b[0m\u001b[0;32mlambda\u001b[0m \u001b[0my\u001b[0m\u001b[0;34m:\u001b[0m \u001b[0my\u001b[0m\u001b[0;34m.\u001b[0m\u001b[0mmin\u001b[0m\u001b[0;34m(\u001b[0m\u001b[0;34m)\u001b[0m\u001b[0;34m.\u001b[0m\u001b[0mmin\u001b[0m\u001b[0;34m(\u001b[0m\u001b[0;34m)\u001b[0m\u001b[0;34m,\u001b[0m \u001b[0md\u001b[0m\u001b[0;34m)\u001b[0m\u001b[0;34m)\u001b[0m\u001b[0;34m\u001b[0m\u001b[0;34m\u001b[0m\u001b[0m\n",
            "\u001b[0;32m/usr/local/lib/python3.7/dist-packages/pandas/io/parsers.py\u001b[0m in \u001b[0;36mread_csv\u001b[0;34m(filepath_or_buffer, sep, delimiter, header, names, index_col, usecols, squeeze, prefix, mangle_dupe_cols, dtype, engine, converters, true_values, false_values, skipinitialspace, skiprows, skipfooter, nrows, na_values, keep_default_na, na_filter, verbose, skip_blank_lines, parse_dates, infer_datetime_format, keep_date_col, date_parser, dayfirst, cache_dates, iterator, chunksize, compression, thousands, decimal, lineterminator, quotechar, quoting, doublequote, escapechar, comment, encoding, dialect, error_bad_lines, warn_bad_lines, delim_whitespace, low_memory, memory_map, float_precision)\u001b[0m\n\u001b[1;32m    686\u001b[0m     )\n\u001b[1;32m    687\u001b[0m \u001b[0;34m\u001b[0m\u001b[0m\n\u001b[0;32m--> 688\u001b[0;31m     \u001b[0;32mreturn\u001b[0m \u001b[0m_read\u001b[0m\u001b[0;34m(\u001b[0m\u001b[0mfilepath_or_buffer\u001b[0m\u001b[0;34m,\u001b[0m \u001b[0mkwds\u001b[0m\u001b[0;34m)\u001b[0m\u001b[0;34m\u001b[0m\u001b[0;34m\u001b[0m\u001b[0m\n\u001b[0m\u001b[1;32m    689\u001b[0m \u001b[0;34m\u001b[0m\u001b[0m\n\u001b[1;32m    690\u001b[0m \u001b[0;34m\u001b[0m\u001b[0m\n",
            "\u001b[0;32m/usr/local/lib/python3.7/dist-packages/pandas/io/parsers.py\u001b[0m in \u001b[0;36m_read\u001b[0;34m(filepath_or_buffer, kwds)\u001b[0m\n\u001b[1;32m    435\u001b[0m     \u001b[0;31m# See https://github.com/python/mypy/issues/1297\u001b[0m\u001b[0;34m\u001b[0m\u001b[0;34m\u001b[0m\u001b[0;34m\u001b[0m\u001b[0m\n\u001b[1;32m    436\u001b[0m     fp_or_buf, _, compression, should_close = get_filepath_or_buffer(\n\u001b[0;32m--> 437\u001b[0;31m         \u001b[0mfilepath_or_buffer\u001b[0m\u001b[0;34m,\u001b[0m \u001b[0mencoding\u001b[0m\u001b[0;34m,\u001b[0m \u001b[0mcompression\u001b[0m\u001b[0;34m\u001b[0m\u001b[0;34m\u001b[0m\u001b[0m\n\u001b[0m\u001b[1;32m    438\u001b[0m     )\n\u001b[1;32m    439\u001b[0m     \u001b[0mkwds\u001b[0m\u001b[0;34m[\u001b[0m\u001b[0;34m\"compression\"\u001b[0m\u001b[0;34m]\u001b[0m \u001b[0;34m=\u001b[0m \u001b[0mcompression\u001b[0m\u001b[0;34m\u001b[0m\u001b[0;34m\u001b[0m\u001b[0m\n",
            "\u001b[0;32m/usr/local/lib/python3.7/dist-packages/pandas/io/common.py\u001b[0m in \u001b[0;36mget_filepath_or_buffer\u001b[0;34m(filepath_or_buffer, encoding, compression, mode, storage_options)\u001b[0m\n\u001b[1;32m    181\u001b[0m     \u001b[0;32mif\u001b[0m \u001b[0misinstance\u001b[0m\u001b[0;34m(\u001b[0m\u001b[0mfilepath_or_buffer\u001b[0m\u001b[0;34m,\u001b[0m \u001b[0mstr\u001b[0m\u001b[0;34m)\u001b[0m \u001b[0;32mand\u001b[0m \u001b[0mis_url\u001b[0m\u001b[0;34m(\u001b[0m\u001b[0mfilepath_or_buffer\u001b[0m\u001b[0;34m)\u001b[0m\u001b[0;34m:\u001b[0m\u001b[0;34m\u001b[0m\u001b[0;34m\u001b[0m\u001b[0m\n\u001b[1;32m    182\u001b[0m         \u001b[0;31m# TODO: fsspec can also handle HTTP via requests, but leaving this unchanged\u001b[0m\u001b[0;34m\u001b[0m\u001b[0;34m\u001b[0m\u001b[0;34m\u001b[0m\u001b[0m\n\u001b[0;32m--> 183\u001b[0;31m         \u001b[0mreq\u001b[0m \u001b[0;34m=\u001b[0m \u001b[0murlopen\u001b[0m\u001b[0;34m(\u001b[0m\u001b[0mfilepath_or_buffer\u001b[0m\u001b[0;34m)\u001b[0m\u001b[0;34m\u001b[0m\u001b[0;34m\u001b[0m\u001b[0m\n\u001b[0m\u001b[1;32m    184\u001b[0m         \u001b[0mcontent_encoding\u001b[0m \u001b[0;34m=\u001b[0m \u001b[0mreq\u001b[0m\u001b[0;34m.\u001b[0m\u001b[0mheaders\u001b[0m\u001b[0;34m.\u001b[0m\u001b[0mget\u001b[0m\u001b[0;34m(\u001b[0m\u001b[0;34m\"Content-Encoding\"\u001b[0m\u001b[0;34m,\u001b[0m \u001b[0;32mNone\u001b[0m\u001b[0;34m)\u001b[0m\u001b[0;34m\u001b[0m\u001b[0;34m\u001b[0m\u001b[0m\n\u001b[1;32m    185\u001b[0m         \u001b[0;32mif\u001b[0m \u001b[0mcontent_encoding\u001b[0m \u001b[0;34m==\u001b[0m \u001b[0;34m\"gzip\"\u001b[0m\u001b[0;34m:\u001b[0m\u001b[0;34m\u001b[0m\u001b[0;34m\u001b[0m\u001b[0m\n",
            "\u001b[0;32m/usr/local/lib/python3.7/dist-packages/pandas/io/common.py\u001b[0m in \u001b[0;36murlopen\u001b[0;34m(*args, **kwargs)\u001b[0m\n\u001b[1;32m    135\u001b[0m     \u001b[0;32mimport\u001b[0m \u001b[0murllib\u001b[0m\u001b[0;34m.\u001b[0m\u001b[0mrequest\u001b[0m\u001b[0;34m\u001b[0m\u001b[0;34m\u001b[0m\u001b[0m\n\u001b[1;32m    136\u001b[0m \u001b[0;34m\u001b[0m\u001b[0m\n\u001b[0;32m--> 137\u001b[0;31m     \u001b[0;32mreturn\u001b[0m \u001b[0murllib\u001b[0m\u001b[0;34m.\u001b[0m\u001b[0mrequest\u001b[0m\u001b[0;34m.\u001b[0m\u001b[0murlopen\u001b[0m\u001b[0;34m(\u001b[0m\u001b[0;34m*\u001b[0m\u001b[0margs\u001b[0m\u001b[0;34m,\u001b[0m \u001b[0;34m**\u001b[0m\u001b[0mkwargs\u001b[0m\u001b[0;34m)\u001b[0m\u001b[0;34m\u001b[0m\u001b[0;34m\u001b[0m\u001b[0m\n\u001b[0m\u001b[1;32m    138\u001b[0m \u001b[0;34m\u001b[0m\u001b[0m\n\u001b[1;32m    139\u001b[0m \u001b[0;34m\u001b[0m\u001b[0m\n",
            "\u001b[0;32m/usr/lib/python3.7/urllib/request.py\u001b[0m in \u001b[0;36murlopen\u001b[0;34m(url, data, timeout, cafile, capath, cadefault, context)\u001b[0m\n\u001b[1;32m    220\u001b[0m     \u001b[0;32melse\u001b[0m\u001b[0;34m:\u001b[0m\u001b[0;34m\u001b[0m\u001b[0;34m\u001b[0m\u001b[0m\n\u001b[1;32m    221\u001b[0m         \u001b[0mopener\u001b[0m \u001b[0;34m=\u001b[0m \u001b[0m_opener\u001b[0m\u001b[0;34m\u001b[0m\u001b[0;34m\u001b[0m\u001b[0m\n\u001b[0;32m--> 222\u001b[0;31m     \u001b[0;32mreturn\u001b[0m \u001b[0mopener\u001b[0m\u001b[0;34m.\u001b[0m\u001b[0mopen\u001b[0m\u001b[0;34m(\u001b[0m\u001b[0murl\u001b[0m\u001b[0;34m,\u001b[0m \u001b[0mdata\u001b[0m\u001b[0;34m,\u001b[0m \u001b[0mtimeout\u001b[0m\u001b[0;34m)\u001b[0m\u001b[0;34m\u001b[0m\u001b[0;34m\u001b[0m\u001b[0m\n\u001b[0m\u001b[1;32m    223\u001b[0m \u001b[0;34m\u001b[0m\u001b[0m\n\u001b[1;32m    224\u001b[0m \u001b[0;32mdef\u001b[0m \u001b[0minstall_opener\u001b[0m\u001b[0;34m(\u001b[0m\u001b[0mopener\u001b[0m\u001b[0;34m)\u001b[0m\u001b[0;34m:\u001b[0m\u001b[0;34m\u001b[0m\u001b[0;34m\u001b[0m\u001b[0m\n",
            "\u001b[0;32m/usr/lib/python3.7/urllib/request.py\u001b[0m in \u001b[0;36mopen\u001b[0;34m(self, fullurl, data, timeout)\u001b[0m\n\u001b[1;32m    529\u001b[0m         \u001b[0;32mfor\u001b[0m \u001b[0mprocessor\u001b[0m \u001b[0;32min\u001b[0m \u001b[0mself\u001b[0m\u001b[0;34m.\u001b[0m\u001b[0mprocess_response\u001b[0m\u001b[0;34m.\u001b[0m\u001b[0mget\u001b[0m\u001b[0;34m(\u001b[0m\u001b[0mprotocol\u001b[0m\u001b[0;34m,\u001b[0m \u001b[0;34m[\u001b[0m\u001b[0;34m]\u001b[0m\u001b[0;34m)\u001b[0m\u001b[0;34m:\u001b[0m\u001b[0;34m\u001b[0m\u001b[0;34m\u001b[0m\u001b[0m\n\u001b[1;32m    530\u001b[0m             \u001b[0mmeth\u001b[0m \u001b[0;34m=\u001b[0m \u001b[0mgetattr\u001b[0m\u001b[0;34m(\u001b[0m\u001b[0mprocessor\u001b[0m\u001b[0;34m,\u001b[0m \u001b[0mmeth_name\u001b[0m\u001b[0;34m)\u001b[0m\u001b[0;34m\u001b[0m\u001b[0;34m\u001b[0m\u001b[0m\n\u001b[0;32m--> 531\u001b[0;31m             \u001b[0mresponse\u001b[0m \u001b[0;34m=\u001b[0m \u001b[0mmeth\u001b[0m\u001b[0;34m(\u001b[0m\u001b[0mreq\u001b[0m\u001b[0;34m,\u001b[0m \u001b[0mresponse\u001b[0m\u001b[0;34m)\u001b[0m\u001b[0;34m\u001b[0m\u001b[0;34m\u001b[0m\u001b[0m\n\u001b[0m\u001b[1;32m    532\u001b[0m \u001b[0;34m\u001b[0m\u001b[0m\n\u001b[1;32m    533\u001b[0m         \u001b[0;32mreturn\u001b[0m \u001b[0mresponse\u001b[0m\u001b[0;34m\u001b[0m\u001b[0;34m\u001b[0m\u001b[0m\n",
            "\u001b[0;32m/usr/lib/python3.7/urllib/request.py\u001b[0m in \u001b[0;36mhttp_response\u001b[0;34m(self, request, response)\u001b[0m\n\u001b[1;32m    639\u001b[0m         \u001b[0;32mif\u001b[0m \u001b[0;32mnot\u001b[0m \u001b[0;34m(\u001b[0m\u001b[0;36m200\u001b[0m \u001b[0;34m<=\u001b[0m \u001b[0mcode\u001b[0m \u001b[0;34m<\u001b[0m \u001b[0;36m300\u001b[0m\u001b[0;34m)\u001b[0m\u001b[0;34m:\u001b[0m\u001b[0;34m\u001b[0m\u001b[0;34m\u001b[0m\u001b[0m\n\u001b[1;32m    640\u001b[0m             response = self.parent.error(\n\u001b[0;32m--> 641\u001b[0;31m                 'http', request, response, code, msg, hdrs)\n\u001b[0m\u001b[1;32m    642\u001b[0m \u001b[0;34m\u001b[0m\u001b[0m\n\u001b[1;32m    643\u001b[0m         \u001b[0;32mreturn\u001b[0m \u001b[0mresponse\u001b[0m\u001b[0;34m\u001b[0m\u001b[0;34m\u001b[0m\u001b[0m\n",
            "\u001b[0;32m/usr/lib/python3.7/urllib/request.py\u001b[0m in \u001b[0;36merror\u001b[0;34m(self, proto, *args)\u001b[0m\n\u001b[1;32m    567\u001b[0m         \u001b[0;32mif\u001b[0m \u001b[0mhttp_err\u001b[0m\u001b[0;34m:\u001b[0m\u001b[0;34m\u001b[0m\u001b[0;34m\u001b[0m\u001b[0m\n\u001b[1;32m    568\u001b[0m             \u001b[0margs\u001b[0m \u001b[0;34m=\u001b[0m \u001b[0;34m(\u001b[0m\u001b[0mdict\u001b[0m\u001b[0;34m,\u001b[0m \u001b[0;34m'default'\u001b[0m\u001b[0;34m,\u001b[0m \u001b[0;34m'http_error_default'\u001b[0m\u001b[0;34m)\u001b[0m \u001b[0;34m+\u001b[0m \u001b[0morig_args\u001b[0m\u001b[0;34m\u001b[0m\u001b[0;34m\u001b[0m\u001b[0m\n\u001b[0;32m--> 569\u001b[0;31m             \u001b[0;32mreturn\u001b[0m \u001b[0mself\u001b[0m\u001b[0;34m.\u001b[0m\u001b[0m_call_chain\u001b[0m\u001b[0;34m(\u001b[0m\u001b[0;34m*\u001b[0m\u001b[0margs\u001b[0m\u001b[0;34m)\u001b[0m\u001b[0;34m\u001b[0m\u001b[0;34m\u001b[0m\u001b[0m\n\u001b[0m\u001b[1;32m    570\u001b[0m \u001b[0;34m\u001b[0m\u001b[0m\n\u001b[1;32m    571\u001b[0m \u001b[0;31m# XXX probably also want an abstract factory that knows when it makes\u001b[0m\u001b[0;34m\u001b[0m\u001b[0;34m\u001b[0m\u001b[0;34m\u001b[0m\u001b[0m\n",
            "\u001b[0;32m/usr/lib/python3.7/urllib/request.py\u001b[0m in \u001b[0;36m_call_chain\u001b[0;34m(self, chain, kind, meth_name, *args)\u001b[0m\n\u001b[1;32m    501\u001b[0m         \u001b[0;32mfor\u001b[0m \u001b[0mhandler\u001b[0m \u001b[0;32min\u001b[0m \u001b[0mhandlers\u001b[0m\u001b[0;34m:\u001b[0m\u001b[0;34m\u001b[0m\u001b[0;34m\u001b[0m\u001b[0m\n\u001b[1;32m    502\u001b[0m             \u001b[0mfunc\u001b[0m \u001b[0;34m=\u001b[0m \u001b[0mgetattr\u001b[0m\u001b[0;34m(\u001b[0m\u001b[0mhandler\u001b[0m\u001b[0;34m,\u001b[0m \u001b[0mmeth_name\u001b[0m\u001b[0;34m)\u001b[0m\u001b[0;34m\u001b[0m\u001b[0;34m\u001b[0m\u001b[0m\n\u001b[0;32m--> 503\u001b[0;31m             \u001b[0mresult\u001b[0m \u001b[0;34m=\u001b[0m \u001b[0mfunc\u001b[0m\u001b[0;34m(\u001b[0m\u001b[0;34m*\u001b[0m\u001b[0margs\u001b[0m\u001b[0;34m)\u001b[0m\u001b[0;34m\u001b[0m\u001b[0;34m\u001b[0m\u001b[0m\n\u001b[0m\u001b[1;32m    504\u001b[0m             \u001b[0;32mif\u001b[0m \u001b[0mresult\u001b[0m \u001b[0;32mis\u001b[0m \u001b[0;32mnot\u001b[0m \u001b[0;32mNone\u001b[0m\u001b[0;34m:\u001b[0m\u001b[0;34m\u001b[0m\u001b[0;34m\u001b[0m\u001b[0m\n\u001b[1;32m    505\u001b[0m                 \u001b[0;32mreturn\u001b[0m \u001b[0mresult\u001b[0m\u001b[0;34m\u001b[0m\u001b[0;34m\u001b[0m\u001b[0m\n",
            "\u001b[0;32m/usr/lib/python3.7/urllib/request.py\u001b[0m in \u001b[0;36mhttp_error_default\u001b[0;34m(self, req, fp, code, msg, hdrs)\u001b[0m\n\u001b[1;32m    647\u001b[0m \u001b[0;32mclass\u001b[0m \u001b[0mHTTPDefaultErrorHandler\u001b[0m\u001b[0;34m(\u001b[0m\u001b[0mBaseHandler\u001b[0m\u001b[0;34m)\u001b[0m\u001b[0;34m:\u001b[0m\u001b[0;34m\u001b[0m\u001b[0;34m\u001b[0m\u001b[0m\n\u001b[1;32m    648\u001b[0m     \u001b[0;32mdef\u001b[0m \u001b[0mhttp_error_default\u001b[0m\u001b[0;34m(\u001b[0m\u001b[0mself\u001b[0m\u001b[0;34m,\u001b[0m \u001b[0mreq\u001b[0m\u001b[0;34m,\u001b[0m \u001b[0mfp\u001b[0m\u001b[0;34m,\u001b[0m \u001b[0mcode\u001b[0m\u001b[0;34m,\u001b[0m \u001b[0mmsg\u001b[0m\u001b[0;34m,\u001b[0m \u001b[0mhdrs\u001b[0m\u001b[0;34m)\u001b[0m\u001b[0;34m:\u001b[0m\u001b[0;34m\u001b[0m\u001b[0;34m\u001b[0m\u001b[0m\n\u001b[0;32m--> 649\u001b[0;31m         \u001b[0;32mraise\u001b[0m \u001b[0mHTTPError\u001b[0m\u001b[0;34m(\u001b[0m\u001b[0mreq\u001b[0m\u001b[0;34m.\u001b[0m\u001b[0mfull_url\u001b[0m\u001b[0;34m,\u001b[0m \u001b[0mcode\u001b[0m\u001b[0;34m,\u001b[0m \u001b[0mmsg\u001b[0m\u001b[0;34m,\u001b[0m \u001b[0mhdrs\u001b[0m\u001b[0;34m,\u001b[0m \u001b[0mfp\u001b[0m\u001b[0;34m)\u001b[0m\u001b[0;34m\u001b[0m\u001b[0;34m\u001b[0m\u001b[0m\n\u001b[0m\u001b[1;32m    650\u001b[0m \u001b[0;34m\u001b[0m\u001b[0m\n\u001b[1;32m    651\u001b[0m \u001b[0;32mclass\u001b[0m \u001b[0mHTTPRedirectHandler\u001b[0m\u001b[0;34m(\u001b[0m\u001b[0mBaseHandler\u001b[0m\u001b[0;34m)\u001b[0m\u001b[0;34m:\u001b[0m\u001b[0;34m\u001b[0m\u001b[0;34m\u001b[0m\u001b[0m\n",
            "\u001b[0;31mHTTPError\u001b[0m: HTTP Error 404: Not Found"
          ]
        }
      ]
    },
    {
      "cell_type": "code",
      "metadata": {
        "id": "TN2aaB8O8YvW"
      },
      "source": [
        "# Property P1 plotting..\n",
        "# plot_graph(\"r_p1_avg_K500_smc_grid_21x21_T_144\", index=\"Space\")"
      ],
      "execution_count": null,
      "outputs": []
    },
    {
      "cell_type": "code",
      "metadata": {
        "scrolled": true,
        "id": "6ncKXuQd8YvX"
      },
      "source": [
        "# INPUT GIF\n",
        "filename = \"input_avg_K0_smc_grid_21x21_T_144\"\n",
        "\n",
        "#generate_gif(filename)\n",
        "\n",
        "# P1 GIF\n",
        "prop = 'p1'\n",
        "filename = \"r_\" + prop + \"_avg_K500_smc_grid_21x21_T_144\"\n",
        "\n",
        "#generate_gif(filename)\n",
        "\n",
        "# P2' GIF\n",
        "prop = 'p2'\n",
        "filename = \"r_\" + prop + \"_avg_K500_smc_grid_21x21_T_144\"\n",
        "\n",
        "#generate_gif(filename)\n",
        "\n",
        "# P3 GIF\n",
        "prop = 'p3'\n",
        "filename = \"r_\" + prop + \"_avg_K500_smc_grid_21x21_T_144\"\n",
        "\n",
        "#generate_gif(filename)"
      ],
      "execution_count": null,
      "outputs": []
    },
    {
      "cell_type": "code",
      "metadata": {
        "scrolled": true,
        "id": "ao71Ud3c8YvY"
      },
      "source": [
        "multi_snap_printer(avg_files[0], interesting_snaps, width=0.040, left=0.84)\n",
        "multi_snap_printer(avg_files[1], interesting_snaps, width=0.040, left=0.84, cmap='PuOr', symmetric=True)\n",
        "multi_snap_printer(avg_files[2], interesting_snaps, width=0.040, left=0.84, cmap='PuOr', symmetric=True)\n",
        "multi_snap_printer(avg_files[3], interesting_snaps, width=0.040, left=0.84, cmap='PuOr', symmetric=True)"
      ],
      "execution_count": null,
      "outputs": []
    },
    {
      "cell_type": "code",
      "metadata": {
        "scrolled": true,
        "id": "qSnbwt4y8Yva"
      },
      "source": [
        "s_avg_files = list(map(lambda x: x.replace(\"r_\", \"s_\"), avg_files))\n",
        "\n",
        "#multi_snap_printer(s_avg_files[0], interesting_snaps, width=0.040, left=0.84)\n",
        "multi_snap_printer(s_avg_files[1], interesting_snaps, width=0.040, left=0.84, smax=1.0, smin=0.01, cmap='RdYlGn')\n",
        "multi_snap_printer(s_avg_files[2], interesting_snaps, width=0.040, left=0.84, smax=1.0, smin=0.01, cmap='RdYlGn')\n",
        "multi_snap_printer(s_avg_files[3], interesting_snaps, width=0.040, left=0.84, smax=1.0, smin=0.01, cmap='RdYlGn')"
      ],
      "execution_count": null,
      "outputs": []
    },
    {
      "cell_type": "code",
      "metadata": {
        "id": "-z8gyc6D8Yve"
      },
      "source": [
        "prop = 'poi'\n",
        "files = ['g6_r_' + prop + \"_avg_K500_smc_grid_21x21_T_144\", 'g6_s_' + prop + \"_avg_K500_smc_grid_21x21_T_144\"]\n",
        "\n",
        "multi_snap_printer(files[0], interesting_snaps, width=0.040, left=0.84, cmap='PuOr', symmetric=True, smin=-400, smax=400)\n",
        "multi_snap_printer(files[1], interesting_snaps, width=0.040, left=0.84, cmap='RdYlGn', smax=1.0, smin=0.01)\n",
        "\n",
        "#for f in files:\n",
        "    #generate_gif(f)"
      ],
      "execution_count": null,
      "outputs": []
    },
    {
      "cell_type": "code",
      "metadata": {
        "scrolled": true,
        "id": "8aAFombu8Yvf"
      },
      "source": [
        "s_p11 = [\"s_p11_avg_K500_smc_grid_21x21_T_144\", \"s_p11_var_K500_smc_grid_21x21_T_144\"] \n",
        "r_p11 = [\"r_p11_avg_K500_smc_grid_21x21_T_144\", \"r_p11_var_K500_smc_grid_21x21_T_144\"]\n",
        "\n",
        "plot_multi(s_p11)\n",
        "plot_multi(r_p11)"
      ],
      "execution_count": null,
      "outputs": []
    },
    {
      "cell_type": "code",
      "metadata": {
        "scrolled": true,
        "id": "4Lx8aAGK8Yvg"
      },
      "source": [
        "multi_snap_printer(s_p11[0], [1], maxcols=1, smax=1.0, smin=0.01, cmap='RdYlGn')\n",
        "multi_snap_printer(r_p11[0], [1], maxcols=1, cmap='PuOr', symmetric=True)"
      ],
      "execution_count": null,
      "outputs": []
    },
    {
      "cell_type": "code",
      "metadata": {
        "id": "qhj_76bh8Yvg"
      },
      "source": [
        "prop = 'poi'\n",
        "files = ['r_' + prop + \"_avg_K500_smc_grid_21x21_T_144\", 's_' + prop + \"_avg_K500_smc_grid_21x21_T_144\"]\n",
        "\n",
        "for f in files:\n",
        "    multi_snap_printer(f, interesting_snaps, width=0.040, left=0.84)"
      ],
      "execution_count": null,
      "outputs": []
    },
    {
      "cell_type": "code",
      "metadata": {
        "id": "2IYlTrbx8Yvh"
      },
      "source": [
        "prop = 'p33'\n",
        "\n",
        "filename = 'r_' + prop + \"_avg_K500_smc_grid_21x21_T_144\"\n",
        "#generate_gif(filename)\n",
        "\n",
        "filename = 's_' + prop + \"_avg_K500_smc_grid_21x21_T_144\"\n",
        "#generate_gif(filename)"
      ],
      "execution_count": null,
      "outputs": []
    },
    {
      "cell_type": "code",
      "metadata": {
        "id": "sEmISj_O8Yvh"
      },
      "source": [
        "prop = 'poi'\n",
        "#files = ['g4_r_' + prop + \"_avg_K500_smc_grid_21x21_T_144\", 's_' + prop + \"_avg_K500_smc_grid_21x21_T_144\"]\n",
        "\n",
        "#for f in files:\n",
        "#    multi_snap_printer(f, interesting_snaps, width=0.040, left=0.84)\n",
        "    \n",
        "files = ['g5_r_' + prop + \"_avg_K500_smc_grid_21x21_T_144\", 'g5_s_' + prop + \"_avg_K500_smc_grid_21x21_T_144\"]\n",
        "\n",
        "for f in files:\n",
        "    multi_snap_printer(f, interesting_snaps, width=0.040, left=0.84)"
      ],
      "execution_count": null,
      "outputs": []
    },
    {
      "cell_type": "code",
      "metadata": {
        "id": "seeN9Aab8Yvi"
      },
      "source": [
        "files = [\"r_p1_avg_K500_smc_grid_21x21_T_144\", \"s_p1_avg_K500_smc_grid_21x21_T_144\"]\n",
        "\n",
        "for f in files:\n",
        "    multi_snap_printer(f, interesting_snaps, width=0.040, left=0.84)"
      ],
      "execution_count": null,
      "outputs": []
    },
    {
      "cell_type": "code",
      "metadata": {
        "id": "-AuQEtEz8Yvj"
      },
      "source": [
        "files = [\"r_p3_avg_K500_smc_grid_21x21_T_144\", \"s_p3_avg_K500_smc_grid_21x21_T_144\"]\n",
        "\n",
        "for f in files:\n",
        "    multi_snap_printer(f, interesting_snaps, width=0.040, left=0.84)"
      ],
      "execution_count": null,
      "outputs": []
    },
    {
      "cell_type": "code",
      "metadata": {
        "id": "KdIqhZzM8Yvj"
      },
      "source": [
        "files = [\"r_p2_avg_K500_smc_grid_21x21_T_144\", \"s_p2_avg_K500_smc_grid_21x21_T_144\"]\n",
        "\n",
        "for f in files:\n",
        "    multi_snap_printer(f, interesting_snaps, width=0.040, left=0.84)"
      ],
      "execution_count": null,
      "outputs": []
    },
    {
      "cell_type": "code",
      "metadata": {
        "id": "JTU-O2IY8Yvk"
      },
      "source": [
        "files = [\"r_p4_avg_K500_smc_grid_21x21_T_144\", \"s_p4_avg_K500_smc_grid_21x21_T_144\"]\n",
        "\n",
        "for f in files:\n",
        "    multi_snap_printer(f, interesting_snaps, width=0.040, left=0.84)"
      ],
      "execution_count": null,
      "outputs": []
    },
    {
      "cell_type": "markdown",
      "metadata": {
        "id": "-xXmjJKr-czQ"
      },
      "source": [
        "# Unused scripts that might be useful in future"
      ]
    },
    {
      "cell_type": "code",
      "metadata": {
        "id": "MZJzHwJa8YvR"
      },
      "source": [
        "# Input Normalization (Enable when needed)\n",
        "'''\n",
        "# Input Normalization \n",
        "base = \"_trajectories_grid_21x21_T_144\" \n",
        "files = []\n",
        "for i in range(1, 101):\n",
        "    if i < 10:\n",
        "        s = \"00\" + str(i)\n",
        "    elif i < 100:\n",
        "        s = \"0\" + str(i)\n",
        "    else:\n",
        "        s = str(i)\n",
        "    files.append(s + base)\n",
        "\n",
        "for f in files:\n",
        "    df = pd.read_csv(path + directory + \"/\" + f + \".csv\")\n",
        "    df = qnorm.quantile_normalize(df)\n",
        "    #df.drop(columns=\"\", axis=1, inplace=True)\n",
        "    df.to_csv(path + directory + \"/norm/\" + f + \".csv\", index=False)\n",
        "'''"
      ],
      "execution_count": null,
      "outputs": []
    }
  ]
}