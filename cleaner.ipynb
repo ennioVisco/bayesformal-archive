{
 "cells": [
  {
   "cell_type": "code",
   "execution_count": 2,
   "id": "43921c40",
   "metadata": {},
   "outputs": [
    {
     "name": "stdout",
     "output_type": "stream",
     "text": [
      "Requirement already satisfied: qnorm in c:\\languages\\python39\\lib\\site-packages (0.7.0)\n",
      "Requirement already satisfied: numpy in c:\\languages\\python39\\lib\\site-packages (from qnorm) (1.20.3)\n",
      "Requirement already satisfied: numba in c:\\languages\\python39\\lib\\site-packages (from qnorm) (0.53.1)\n",
      "Requirement already satisfied: setuptools in c:\\languages\\python39\\lib\\site-packages (from numba->qnorm) (56.0.0)\n",
      "Requirement already satisfied: llvmlite<0.37,>=0.36.0rc1 in c:\\languages\\python39\\lib\\site-packages (from numba->qnorm) (0.36.0)\n"
     ]
    }
   ],
   "source": [
    "%run ./bflib.ipynb"
   ]
  },
  {
   "cell_type": "code",
   "execution_count": 3,
   "id": "ebe706b1",
   "metadata": {},
   "outputs": [],
   "source": [
    "# remove first time point for all traces\n",
    "def clean(cleaning_dir):\n",
    "    default_path = abs_path + resources_dir + cleaning_dir + \"/\"\n",
    "    # fetch files\n",
    "    filenames = os.listdir(resources_dir + cleaning_dir)\n",
    "    r = re.compile(\".*\\.csv\")\n",
    "    filenames = list(filter(r.match, filenames))\n",
    "\n",
    "    # prepare output dir\n",
    "    target = f\"{resources_dir}{cleaning_dir}/cleaned\"\n",
    "    if not os.path.exists(target):\n",
    "        os.makedirs(target)\n",
    "\n",
    "    # change files and store results\n",
    "    for f in filenames:\n",
    "        df = pd.read_csv(f\"{default_path}{f}\")\n",
    "        df = df.iloc[: , 1:]\n",
    "        f = f.replace(\"T_142\", \"T_141\")\n",
    "        df.to_csv(f\"{target}/{f}\", index=False)"
   ]
  },
  {
   "cell_type": "code",
   "execution_count": 16,
   "id": "aa515d67",
   "metadata": {},
   "outputs": [],
   "source": [
    "clean(\"real\")"
   ]
  },
  {
   "cell_type": "code",
   "execution_count": null,
   "id": "938e50fa",
   "metadata": {},
   "outputs": [],
   "source": [
    "files = os.listdir(path)\n",
    "\n",
    "\n",
    "for index, file in enumerate(files):\n",
    "    os.rename(os.path.join(path, file), os.path.join(path, ''.join([str(index), '.jpg'])))"
   ]
  },
  {
   "cell_type": "code",
   "execution_count": 15,
   "id": "6f47ec28",
   "metadata": {},
   "outputs": [
    {
     "data": {
      "text/plain": [
       "141"
      ]
     },
     "execution_count": 15,
     "metadata": {},
     "output_type": "execute_result"
    }
   ],
   "source": [
    "df = pd.read_csv(abs_path + resources_dir + \"real/001_trajectories_grid_21x21_T_141_h_2.csv\")\n",
    "len(df.columns)"
   ]
  },
  {
   "cell_type": "code",
   "execution_count": null,
   "id": "7143ec01",
   "metadata": {},
   "outputs": [],
   "source": []
  }
 ],
 "metadata": {
  "kernelspec": {
   "display_name": "Python 3",
   "language": "python",
   "name": "python3"
  },
  "language_info": {
   "codemirror_mode": {
    "name": "ipython",
    "version": 3
   },
   "file_extension": ".py",
   "mimetype": "text/x-python",
   "name": "python",
   "nbconvert_exporter": "python",
   "pygments_lexer": "ipython3",
   "version": "3.9.5"
  }
 },
 "nbformat": 4,
 "nbformat_minor": 5
}
