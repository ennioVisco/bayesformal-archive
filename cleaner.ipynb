{
 "cells": [
  {
   "cell_type": "code",
   "execution_count": 39,
   "id": "43921c40",
   "metadata": {},
   "outputs": [],
   "source": [
    "# Basics\n",
    "import pandas as pd \n",
    "import re\n",
    "import os"
   ]
  },
  {
   "cell_type": "code",
   "execution_count": 36,
   "id": "c8d5814e",
   "metadata": {},
   "outputs": [],
   "source": [
    "# Paths\n",
    "abs_path = \"\"\n",
    "resources_dir = \"src/main/resources/\"\n"
   ]
  },
  {
   "cell_type": "code",
   "execution_count": 37,
   "id": "422ba91d",
   "metadata": {},
   "outputs": [],
   "source": [
    "models = [\n",
    "    \"ar_rhoS05_Normal\",\n",
    "    \"ar_rhoS0_rhoT0_Normal\",\n",
    "    \"ar_rhoS0_Normal\",\n",
    "    \"ar_Normal\",\n",
    "    \"ar_BNP\"\n",
    "]"
   ]
  },
  {
   "cell_type": "code",
   "execution_count": 38,
   "id": "055fa54b",
   "metadata": {},
   "outputs": [],
   "source": [
    "data_dir = models[-1]\n",
    "\n",
    "default_path = abs_path + resources_dir + data_dir"
   ]
  },
  {
   "cell_type": "code",
   "execution_count": 40,
   "id": "ebe706b1",
   "metadata": {},
   "outputs": [],
   "source": [
    "# fetch files\n",
    "filenames = os.listdir(resources_dir + data_dir)\n",
    "r = re.compile(\".*\\.csv\")\n",
    "filenames = list(filter(r.match, filenames))\n",
    "\n",
    "# prepare output dir\n",
    "target = f\"{resources_dir}{data_dir}/cleaned\"\n",
    "if not os.path.exists(target):\n",
    "    os.makedirs(target)\n",
    "\n",
    "# change files and store results\n",
    "for f in filenames:\n",
    "    df = pd.read_csv(f\"{default_path}/{f}\")\n",
    "    df = df.iloc[: , 1:]\n",
    "    f = f.replace(\"T_142\", \"T_141\")\n",
    "    df.to_csv(f\"{target}/{f}\", index=False)"
   ]
  },
  {
   "cell_type": "code",
   "execution_count": null,
   "id": "aa515d67",
   "metadata": {},
   "outputs": [],
   "source": []
  }
 ],
 "metadata": {
  "kernelspec": {
   "display_name": "Python 3",
   "language": "python",
   "name": "python3"
  },
  "language_info": {
   "codemirror_mode": {
    "name": "ipython",
    "version": 3
   },
   "file_extension": ".py",
   "mimetype": "text/x-python",
   "name": "python",
   "nbconvert_exporter": "python",
   "pygments_lexer": "ipython3",
   "version": "3.9.5"
  }
 },
 "nbformat": 4,
 "nbformat_minor": 5
}
