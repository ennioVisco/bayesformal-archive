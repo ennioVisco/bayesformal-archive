{
 "cells": [
  {
   "cell_type": "code",
   "execution_count": 1,
   "id": "5e5027d0",
   "metadata": {},
   "outputs": [],
   "source": [
    "# Global settings that might be used by all the scripts\n",
    "\n",
    "# Absolute Path\n",
    "abs_path = \"https://raw.githubusercontent.com/ennioVisco/bayesformal/master/\"\n",
    "abs_path = \"\"\n",
    "monitoring_dir = \"output/\"\n",
    "resources_dir = \"src/main/resources/\"\n",
    "default_path = abs_path + monitoring_dir\n",
    "\n",
    "# Directories taken into account for loading/storing results\n",
    "data_dir = \"ar_BNP\"\n",
    "chart_dir = \"charts\"\n",
    "\n",
    "# Interesting time-points for multi-figure plotting\n",
    "interesting_snaps = [1, 49, 111] # T = 0:00, 8:00, 19:10\n",
    "\n",
    "# Aggregated trajectories files taken into account \n",
    "# for average and variance robustness\n",
    "avg_files = [ \"r_p1_avg_K500_smc_grid_21x21_T_144\"\n",
    "            , \"r_p2_avg_K500_smc_grid_21x21_T_144\"\n",
    "            , \"r_p3_avg_K500_smc_grid_21x21_T_144\"\n",
    "            , \"r_p4_avg_K500_smc_grid_21x21_T_144\" \n",
    "            ]\n",
    "var_files = [ \"r_p1_var_K500_smc_grid_21x21_T_144\"\n",
    "            , \"r_p2_var_K500_smc_grid_21x21_T_144\"\n",
    "            , \"r_p3_var_K500_smc_grid_21x21_T_144\"\n",
    "            , \"r_p4_var_K500_smc_grid_21x21_T_144\" \n",
    "            ]\n",
    "\n",
    "# Color schemes for plots, based on kind of semantics\n",
    "SATISFACTION = \"PiYG\"\n",
    "ROBUSTNESS = \"PuOr\""
   ]
  },
  {
   "cell_type": "code",
   "execution_count": 2,
   "id": "8e249b3c",
   "metadata": {},
   "outputs": [],
   "source": [
    "models = [\n",
    "    \"ar_rhoS05_Normal\",\n",
    "    \"ar_rhoS0_rhoT0_Normal\",\n",
    "    \"ar_rhoS0_Normal\",\n",
    "    \"ar_Normal\",\n",
    "    \"ar_BNP\"\n",
    "]"
   ]
  }
 ],
 "metadata": {
  "kernelspec": {
   "display_name": "Python 3",
   "language": "python",
   "name": "python3"
  },
  "language_info": {
   "codemirror_mode": {
    "name": "ipython",
    "version": 3
   },
   "file_extension": ".py",
   "mimetype": "text/x-python",
   "name": "python",
   "nbconvert_exporter": "python",
   "pygments_lexer": "ipython3",
   "version": "3.9.5"
  }
 },
 "nbformat": 4,
 "nbformat_minor": 5
}
